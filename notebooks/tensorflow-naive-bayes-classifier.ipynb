{
  "cells": [
    {
      "cell_type": "code",
      "execution_count": 1,
      "metadata": {
        "_cell_guid": "b1076dfc-b9ad-4769-8c92-a6c4dae69d19",
        "_uuid": "8f2839f25d086af736a60e9eeb907d3b93b6e0e5",
        "id": "wywkWPXXsjjz"
      },
      "outputs": [],
      "source": [
        "# This Python 3 environment comes with many helpful analytics libraries installed\n",
        "# It is defined by the kaggle/python docker image: https://github.com/kaggle/docker-python\n",
        "# For example, here's several helpful packages to load in\n",
        "\n",
        "import numpy as np # linear algebra\n",
        "import pandas as pd # data processing, CSV file I/O (e.g. pd.read_csv)\n",
        "from sklearn import feature_extraction, linear_model, model_selection, preprocessing\n",
        "\n",
        "# Input data files are available in the \"../input/\" directory.\n",
        "# For example, running this (by clicking run or pressing Shift+Enter) will list all files under the input directory\n",
        "\n",
        "\n",
        "import os\n",
        "for dirname, _, filenames in os.walk('./data/nlp-getting-started/'):\n",
        "    for filename in filenames:\n",
        "        print(os.path.join(dirname, filename))\n",
        "\n",
        "# Any results you write to the current directory are saved as output."
      ]
    },
    {
      "cell_type": "code",
      "execution_count": 13,
      "metadata": {
        "id": "-8m18uansjj0"
      },
      "outputs": [],
      "source": [
        "# tensorflow hub\n",
        "import tensorflow_hub as hub\n",
        "# tensor flow module\n",
        "import tensorflow as tf\n",
        "import tensorflow_probability as tfp\n",
        "from tensorflow.keras.preprocessing.sequence import pad_sequences\n",
        "\n",
        "# matplotlib\n",
        "from matplotlib import colors\n",
        "from matplotlib import pyplot as plt\n",
        "\n",
        "# word vectorizor\n",
        "# first converts the text into a matrix of word counts\n",
        "# then transforms these counts by normalizing them based on the term frequency\n",
        "from sklearn.feature_extraction.text import TfidfVectorizer\n",
        "\n",
        "# used to create word encoders\n",
        "from sklearn import preprocessing"
      ]
    },
    {
      "cell_type": "markdown",
      "metadata": {
        "id": "3mI3r1t4sjj0"
      },
      "source": [
        "# Background\n",
        "In this competition we have a keyword(sometimes), location(sometimes), and text to represent a Tweet. Our goal is to predict whether the tweet is describing a real disaster (1) or not (0).\n",
        "\n",
        "In this kernel I am going to focus on the text and keyword features to predict a target. First, I must convert the text into vectors to use in my model. I will use a multinominal Naive Bayes classifier to build my model given the text features. Then I will use Naive Bayes to get predictions based on keywords."
      ]
    },
    {
      "cell_type": "markdown",
      "metadata": {
        "id": "Kt_ajya2sjj1"
      },
      "source": [
        "Tensorflow code is inspired by github repo:\n",
        "https://github.com/nicolov/naive_bayes_tensorflow/blob/master/tf_iris.py\n"
      ]
    },
    {
      "cell_type": "markdown",
      "metadata": {
        "id": "hH5LXG9Fsjj1"
      },
      "source": [
        "# Import Data"
      ]
    },
    {
      "cell_type": "markdown",
      "metadata": {
        "id": "Fv4p38lOsjj1"
      },
      "source": [
        "read in data to pandas dataframes"
      ]
    },
    {
      "cell_type": "code",
      "execution_count": 3,
      "metadata": {
        "_cell_guid": "79c7e3d0-c299-4dcb-8224-4455121ee9b0",
        "_uuid": "d629ff2d2480ee46fbb7e2d37f6b5fab8052498a",
        "id": "sUlTpMpSsjj1"
      },
      "outputs": [],
      "source": [
        "train_df = pd.read_csv(\"https://raw.githubusercontent.com/Bie-NHD/Machine-Learning-20242025Sem1/refs/heads/main/data/nlp-getting-started/train.csv\")\n",
        "test_df = pd.read_csv(\"https://raw.githubusercontent.com/Bie-NHD/Machine-Learning-20242025Sem1/refs/heads/main/data/nlp-getting-started/test.csv\")"
      ]
    },
    {
      "cell_type": "markdown",
      "metadata": {
        "id": "J0MPh0hRsjj2"
      },
      "source": [
        "# Exploratory\n",
        "I just want to get a general idea of the data before we predict the targets"
      ]
    },
    {
      "cell_type": "markdown",
      "metadata": {
        "id": "IJx9wz2Zsjj2"
      },
      "source": [
        "count how many of each target is found in the training set"
      ]
    },
    {
      "cell_type": "code",
      "execution_count": 4,
      "metadata": {
        "colab": {
          "base_uri": "https://localhost:8080/",
          "height": 178
        },
        "id": "X4tH25kxsjj2",
        "outputId": "e0fd6183-09a9-4acb-dfe5-f78866a5f7e3"
      },
      "outputs": [
        {
          "output_type": "execute_result",
          "data": {
            "text/plain": [
              "target\n",
              "0    4342\n",
              "1    3271\n",
              "Name: id, dtype: int64"
            ],
            "text/html": [
              "<div>\n",
              "<style scoped>\n",
              "    .dataframe tbody tr th:only-of-type {\n",
              "        vertical-align: middle;\n",
              "    }\n",
              "\n",
              "    .dataframe tbody tr th {\n",
              "        vertical-align: top;\n",
              "    }\n",
              "\n",
              "    .dataframe thead th {\n",
              "        text-align: right;\n",
              "    }\n",
              "</style>\n",
              "<table border=\"1\" class=\"dataframe\">\n",
              "  <thead>\n",
              "    <tr style=\"text-align: right;\">\n",
              "      <th></th>\n",
              "      <th>id</th>\n",
              "    </tr>\n",
              "    <tr>\n",
              "      <th>target</th>\n",
              "      <th></th>\n",
              "    </tr>\n",
              "  </thead>\n",
              "  <tbody>\n",
              "    <tr>\n",
              "      <th>0</th>\n",
              "      <td>4342</td>\n",
              "    </tr>\n",
              "    <tr>\n",
              "      <th>1</th>\n",
              "      <td>3271</td>\n",
              "    </tr>\n",
              "  </tbody>\n",
              "</table>\n",
              "</div><br><label><b>dtype:</b> int64</label>"
            ]
          },
          "metadata": {},
          "execution_count": 4
        }
      ],
      "source": [
        "train_df.groupby(\"target\")[\"id\"].nunique()"
      ]
    },
    {
      "cell_type": "markdown",
      "metadata": {
        "id": "VTbTdBBHsjj2"
      },
      "source": [
        "This is amazing! **Our training set has no null targets and our targets are fairly balanced as well!**"
      ]
    },
    {
      "cell_type": "markdown",
      "metadata": {
        "id": "K8r3RJc8sjj2"
      },
      "source": [
        "How many unique locations are duplicated in the tweets of the tweets that contain locations?"
      ]
    },
    {
      "cell_type": "code",
      "execution_count": 5,
      "metadata": {
        "colab": {
          "base_uri": "https://localhost:8080/"
        },
        "id": "88EgfhrUsjj2",
        "outputId": "97ca9086-01ae-4edd-d2ee-daddd3e0f51b"
      },
      "outputs": [
        {
          "output_type": "stream",
          "name": "stdout",
          "text": [
            "2158\n",
            "1602\n"
          ]
        }
      ],
      "source": [
        "print(len(test_df.loc[test_df[\"location\"].notnull(),\"location\"]))\n",
        "print(len(test_df.loc[test_df[\"location\"].notnull(),\"location\"].unique()))"
      ]
    },
    {
      "cell_type": "markdown",
      "metadata": {
        "id": "m2Su-byDsjj3"
      },
      "source": [
        "it looks like not even half match a previous tweet. We may eventually have to categorize locations using a different technique than string matching. For example, it may be useful to categorize cities verse suburban areas rather than just the city names."
      ]
    },
    {
      "cell_type": "markdown",
      "metadata": {
        "id": "_lST4oESsjj3"
      },
      "source": [
        "What about the key words?"
      ]
    },
    {
      "cell_type": "code",
      "execution_count": 6,
      "metadata": {
        "colab": {
          "base_uri": "https://localhost:8080/"
        },
        "id": "RWgLULX0sjj3",
        "outputId": "a5450f73-0f15-484a-8627-68dee73fdf22"
      },
      "outputs": [
        {
          "output_type": "stream",
          "name": "stdout",
          "text": [
            "3237\n",
            "221\n"
          ]
        }
      ],
      "source": [
        "print(len(test_df.loc[test_df[\"keyword\"].notnull(),\"keyword\"]))\n",
        "print(len(test_df.loc[test_df[\"keyword\"].notnull(),\"keyword\"].unique()))"
      ]
    },
    {
      "cell_type": "markdown",
      "metadata": {
        "id": "GyZJew_8sjj3"
      },
      "source": [
        "These may actually be useful in a naive bayes model since each key word will have a conditional probability."
      ]
    },
    {
      "cell_type": "markdown",
      "metadata": {
        "id": "k1znUGpZsjj3"
      },
      "source": [
        "# Tweet Text: Sentence Embedding"
      ]
    },
    {
      "cell_type": "markdown",
      "metadata": {
        "id": "nHhgH2Yfsjj3"
      },
      "source": [
        "Next we can convert each of the texts into vectors using a TensorFlow universal-sentence-encoder."
      ]
    },
    {
      "cell_type": "code",
      "execution_count": 18,
      "metadata": {
        "id": "-FipaREFsjj3"
      },
      "outputs": [],
      "source": [
        "embed = hub.load(\"https://tfhub.dev/google/universal-sentence-encoder/3\")\n",
        "X_train_embeddings = embed(train_df[\"text\"].values)\n",
        "X_test_embeddings = embed(test_df[\"text\"].values)"
      ]
    },
    {
      "cell_type": "markdown",
      "metadata": {
        "id": "tKjW84gvsjj3"
      },
      "source": [
        "# Tensor Flow Naiver Bayes"
      ]
    },
    {
      "cell_type": "markdown",
      "metadata": {
        "id": "nLxK1Q-Wsjj3"
      },
      "source": [
        "Lets create numpy matricies for the features in the training and test set."
      ]
    },
    {
      "cell_type": "code",
      "execution_count": 8,
      "metadata": {
        "id": "Wh-CfWSSsjj3"
      },
      "outputs": [],
      "source": [
        "X_train_matrix = X_train_embeddings['outputs'].numpy()"
      ]
    },
    {
      "cell_type": "code",
      "execution_count": 9,
      "metadata": {
        "id": "oqrfvFjmsjj3"
      },
      "outputs": [],
      "source": [
        "X_test_matrix = X_test_embeddings['outputs'].numpy()"
      ]
    },
    {
      "cell_type": "markdown",
      "metadata": {
        "id": "jJMCUh87sjj4"
      },
      "source": [
        "The target is my y variable for my model."
      ]
    },
    {
      "cell_type": "code",
      "execution_count": 10,
      "metadata": {
        "id": "ZT1GuUsQsjj4"
      },
      "outputs": [],
      "source": [
        "y_train = tf.constant(train_df[\"target\"])"
      ]
    },
    {
      "cell_type": "markdown",
      "metadata": {
        "id": "O1NAQP_Qsjj4"
      },
      "source": [
        "First let's create a python object that can fit and predict a naive bayes classifier"
      ]
    },
    {
      "cell_type": "code",
      "execution_count": 52,
      "metadata": {
        "id": "qZ9NPp4Esjj4"
      },
      "outputs": [],
      "source": [
        "class TFNaiveBayesClassifier:\n",
        "    dist = None\n",
        "\n",
        "    # X is the matrix containing the vectors for each sentence\n",
        "    # y is the list target values in the same order as the X matrix\n",
        "    def fit(self, X, y):\n",
        "        unique_y = np.unique(y) # unique target values: 0,1\n",
        "        print(unique_y)\n",
        "        # `points_by_class` is a numpy array the size of\n",
        "        # the number of unique targets.\n",
        "        # in each item of the list is another list that contains the vector\n",
        "        # of each sentence from the same target value\n",
        "        #\n",
        "        # === old code ===\n",
        "        # points_by_class = np.asarray([np.asarray(\n",
        "        #     [np.asarray(\n",
        "        #         X.iloc[x,:]) for x in range(0,len(y)) if y[x] == c]) for c in unique_y])\n",
        "        # === old code ===\n",
        "\n",
        "        # `points_by_class` is a list to store vectors for each class\n",
        "        points_by_class = []\n",
        "        for c in unique_y:\n",
        "            # Get indices of data points belonging to class 'c'\n",
        "            indices = np.where(y == c)[0]\n",
        "            # Select corresponding rows from X using the indices\n",
        "            class_vectors = X.iloc[indices, :].values\n",
        "            points_by_class.append(class_vectors)\n",
        "\n",
        "        # Pad sequences to ensure uniform length:\n",
        "        max_len = max(len(seq) for seq in points_by_class)\n",
        "        points_by_class = pad_sequences(points_by_class, padding=\"post\", dtype='double', maxlen=max_len)\n",
        "\n",
        "        mean_list=[]\n",
        "        var_list=[]\n",
        "        for i in range(0, len(points_by_class)):\n",
        "            mean_var, var_var = tf.nn.moments(tf.constant(points_by_class[i]), axes=[0])\n",
        "            mean_list.append(mean_var)\n",
        "            var_list.append(var_var)\n",
        "        mean=tf.stack(mean_list, 0)\n",
        "        var=tf.stack(var_list, 0)\n",
        "\n",
        "        # Cast mean and variance to tf.float32\n",
        "        mean = tf.cast(mean, dtype=tf.float32)\n",
        "        var = tf.cast(var, dtype=tf.float32)\n",
        "\n",
        "        # Create a 3x2 univariate normal distribution with the\n",
        "        # known mean and variance\n",
        "        self.dist = tfp.distributions.Normal(loc=mean, scale=tf.sqrt(var))\n",
        "\n",
        "    def predict(self, X):\n",
        "        assert self.dist is not None\n",
        "        nb_classes, nb_features = map(int, self.dist.scale.shape)\n",
        "\n",
        "        # Convert X to float32 to match the distribution's dtype\n",
        "        X = tf.cast(X, dtype=tf.float32)\n",
        "\n",
        "        # uniform priors\n",
        "        priors = np.log(np.array([1. / nb_classes] * nb_classes))\n",
        "\n",
        "        # Conditional probabilities log P(x|c)\n",
        "        # (nb_samples, nb_classes, nb_features)\n",
        "        all_log_probs = self.dist.log_prob(\n",
        "            tf.reshape(\n",
        "                tf.tile(X, [1, nb_classes]), [-1, nb_classes, nb_features]))\n",
        "        # (nb_samples, nb_classes)\n",
        "        cond_probs = tf.reduce_sum(all_log_probs, axis=2)\n",
        "\n",
        "        # posterior log probability, log P(c) + log P(x|c)\n",
        "        #\n",
        "        # === old code ===\n",
        "        # joint_likelihood = tf.add(priors, cond_probs)\n",
        "        # === old code ===\n",
        "\n",
        "        joint_likelihood = tf.add(tf.cast(priors, tf.float32), cond_probs)\n",
        "\n",
        "        # normalize to get (log)-probabilities\n",
        "        norm_factor = tf.reduce_logsumexp(\n",
        "            joint_likelihood, axis=1, keepdims=True)\n",
        "        log_prob = joint_likelihood - norm_factor\n",
        "        # exp to get the actual probabilities\n",
        "        return tf.exp(log_prob)"
      ]
    },
    {
      "cell_type": "markdown",
      "metadata": {
        "id": "7nv8Gye6sjj4"
      },
      "source": [
        "Here we initialize our naive bayes model and fit it using the training data"
      ]
    },
    {
      "cell_type": "code",
      "execution_count": 54,
      "metadata": {
        "colab": {
          "base_uri": "https://localhost:8080/"
        },
        "id": "UWzxzOMQsjj4",
        "outputId": "4797f22e-d006-4811-cb73-d2ce6449691c"
      },
      "outputs": [
        {
          "output_type": "stream",
          "name": "stdout",
          "text": [
            "[0 1]\n"
          ]
        }
      ],
      "source": [
        "tf_nb = TFNaiveBayesClassifier()\n",
        "tf_nb.fit(pd.DataFrame(X_train_matrix),\n",
        "          y_train)"
      ]
    },
    {
      "cell_type": "markdown",
      "metadata": {
        "id": "umLoUk_jsjj4"
      },
      "source": [
        "predict probability of each target values in the test set"
      ]
    },
    {
      "cell_type": "code",
      "execution_count": 55,
      "metadata": {
        "id": "rYI2Y1Qdsjj4"
      },
      "outputs": [],
      "source": [
        "y_pred = tf_nb.predict(X_test_matrix)"
      ]
    },
    {
      "cell_type": "markdown",
      "metadata": {
        "id": "CW_6b5hCsjj5"
      },
      "source": [
        "Create a dataframe containing the probability of each target given the text in each tweet."
      ]
    },
    {
      "cell_type": "code",
      "execution_count": 56,
      "metadata": {
        "colab": {
          "base_uri": "https://localhost:8080/",
          "height": 206
        },
        "id": "Iyk9lTztsjj5",
        "outputId": "1d5dbde7-9142-43d7-924d-cfbc9c416dfb"
      },
      "outputs": [
        {
          "output_type": "execute_result",
          "data": {
            "text/plain": [
              "              0         1\n",
              "0  1.000000e+00  0.000006\n",
              "1  8.648528e-03  0.991370\n",
              "2  9.984753e-01  0.001547\n",
              "3  1.212084e-06  1.000000\n",
              "4  1.646217e-11  1.000000"
            ],
            "text/html": [
              "\n",
              "  <div id=\"df-7db1cb76-c2c7-4d48-b9e4-122e222bbfc9\" class=\"colab-df-container\">\n",
              "    <div>\n",
              "<style scoped>\n",
              "    .dataframe tbody tr th:only-of-type {\n",
              "        vertical-align: middle;\n",
              "    }\n",
              "\n",
              "    .dataframe tbody tr th {\n",
              "        vertical-align: top;\n",
              "    }\n",
              "\n",
              "    .dataframe thead th {\n",
              "        text-align: right;\n",
              "    }\n",
              "</style>\n",
              "<table border=\"1\" class=\"dataframe\">\n",
              "  <thead>\n",
              "    <tr style=\"text-align: right;\">\n",
              "      <th></th>\n",
              "      <th>0</th>\n",
              "      <th>1</th>\n",
              "    </tr>\n",
              "  </thead>\n",
              "  <tbody>\n",
              "    <tr>\n",
              "      <th>0</th>\n",
              "      <td>1.000000e+00</td>\n",
              "      <td>0.000006</td>\n",
              "    </tr>\n",
              "    <tr>\n",
              "      <th>1</th>\n",
              "      <td>8.648528e-03</td>\n",
              "      <td>0.991370</td>\n",
              "    </tr>\n",
              "    <tr>\n",
              "      <th>2</th>\n",
              "      <td>9.984753e-01</td>\n",
              "      <td>0.001547</td>\n",
              "    </tr>\n",
              "    <tr>\n",
              "      <th>3</th>\n",
              "      <td>1.212084e-06</td>\n",
              "      <td>1.000000</td>\n",
              "    </tr>\n",
              "    <tr>\n",
              "      <th>4</th>\n",
              "      <td>1.646217e-11</td>\n",
              "      <td>1.000000</td>\n",
              "    </tr>\n",
              "  </tbody>\n",
              "</table>\n",
              "</div>\n",
              "    <div class=\"colab-df-buttons\">\n",
              "\n",
              "  <div class=\"colab-df-container\">\n",
              "    <button class=\"colab-df-convert\" onclick=\"convertToInteractive('df-7db1cb76-c2c7-4d48-b9e4-122e222bbfc9')\"\n",
              "            title=\"Convert this dataframe to an interactive table.\"\n",
              "            style=\"display:none;\">\n",
              "\n",
              "  <svg xmlns=\"http://www.w3.org/2000/svg\" height=\"24px\" viewBox=\"0 -960 960 960\">\n",
              "    <path d=\"M120-120v-720h720v720H120Zm60-500h600v-160H180v160Zm220 220h160v-160H400v160Zm0 220h160v-160H400v160ZM180-400h160v-160H180v160Zm440 0h160v-160H620v160ZM180-180h160v-160H180v160Zm440 0h160v-160H620v160Z\"/>\n",
              "  </svg>\n",
              "    </button>\n",
              "\n",
              "  <style>\n",
              "    .colab-df-container {\n",
              "      display:flex;\n",
              "      gap: 12px;\n",
              "    }\n",
              "\n",
              "    .colab-df-convert {\n",
              "      background-color: #E8F0FE;\n",
              "      border: none;\n",
              "      border-radius: 50%;\n",
              "      cursor: pointer;\n",
              "      display: none;\n",
              "      fill: #1967D2;\n",
              "      height: 32px;\n",
              "      padding: 0 0 0 0;\n",
              "      width: 32px;\n",
              "    }\n",
              "\n",
              "    .colab-df-convert:hover {\n",
              "      background-color: #E2EBFA;\n",
              "      box-shadow: 0px 1px 2px rgba(60, 64, 67, 0.3), 0px 1px 3px 1px rgba(60, 64, 67, 0.15);\n",
              "      fill: #174EA6;\n",
              "    }\n",
              "\n",
              "    .colab-df-buttons div {\n",
              "      margin-bottom: 4px;\n",
              "    }\n",
              "\n",
              "    [theme=dark] .colab-df-convert {\n",
              "      background-color: #3B4455;\n",
              "      fill: #D2E3FC;\n",
              "    }\n",
              "\n",
              "    [theme=dark] .colab-df-convert:hover {\n",
              "      background-color: #434B5C;\n",
              "      box-shadow: 0px 1px 3px 1px rgba(0, 0, 0, 0.15);\n",
              "      filter: drop-shadow(0px 1px 2px rgba(0, 0, 0, 0.3));\n",
              "      fill: #FFFFFF;\n",
              "    }\n",
              "  </style>\n",
              "\n",
              "    <script>\n",
              "      const buttonEl =\n",
              "        document.querySelector('#df-7db1cb76-c2c7-4d48-b9e4-122e222bbfc9 button.colab-df-convert');\n",
              "      buttonEl.style.display =\n",
              "        google.colab.kernel.accessAllowed ? 'block' : 'none';\n",
              "\n",
              "      async function convertToInteractive(key) {\n",
              "        const element = document.querySelector('#df-7db1cb76-c2c7-4d48-b9e4-122e222bbfc9');\n",
              "        const dataTable =\n",
              "          await google.colab.kernel.invokeFunction('convertToInteractive',\n",
              "                                                    [key], {});\n",
              "        if (!dataTable) return;\n",
              "\n",
              "        const docLinkHtml = 'Like what you see? Visit the ' +\n",
              "          '<a target=\"_blank\" href=https://colab.research.google.com/notebooks/data_table.ipynb>data table notebook</a>'\n",
              "          + ' to learn more about interactive tables.';\n",
              "        element.innerHTML = '';\n",
              "        dataTable['output_type'] = 'display_data';\n",
              "        await google.colab.output.renderOutput(dataTable, element);\n",
              "        const docLink = document.createElement('div');\n",
              "        docLink.innerHTML = docLinkHtml;\n",
              "        element.appendChild(docLink);\n",
              "      }\n",
              "    </script>\n",
              "  </div>\n",
              "\n",
              "\n",
              "<div id=\"df-7a4d7449-5cde-4790-a131-ebf0051c2b56\">\n",
              "  <button class=\"colab-df-quickchart\" onclick=\"quickchart('df-7a4d7449-5cde-4790-a131-ebf0051c2b56')\"\n",
              "            title=\"Suggest charts\"\n",
              "            style=\"display:none;\">\n",
              "\n",
              "<svg xmlns=\"http://www.w3.org/2000/svg\" height=\"24px\"viewBox=\"0 0 24 24\"\n",
              "     width=\"24px\">\n",
              "    <g>\n",
              "        <path d=\"M19 3H5c-1.1 0-2 .9-2 2v14c0 1.1.9 2 2 2h14c1.1 0 2-.9 2-2V5c0-1.1-.9-2-2-2zM9 17H7v-7h2v7zm4 0h-2V7h2v10zm4 0h-2v-4h2v4z\"/>\n",
              "    </g>\n",
              "</svg>\n",
              "  </button>\n",
              "\n",
              "<style>\n",
              "  .colab-df-quickchart {\n",
              "      --bg-color: #E8F0FE;\n",
              "      --fill-color: #1967D2;\n",
              "      --hover-bg-color: #E2EBFA;\n",
              "      --hover-fill-color: #174EA6;\n",
              "      --disabled-fill-color: #AAA;\n",
              "      --disabled-bg-color: #DDD;\n",
              "  }\n",
              "\n",
              "  [theme=dark] .colab-df-quickchart {\n",
              "      --bg-color: #3B4455;\n",
              "      --fill-color: #D2E3FC;\n",
              "      --hover-bg-color: #434B5C;\n",
              "      --hover-fill-color: #FFFFFF;\n",
              "      --disabled-bg-color: #3B4455;\n",
              "      --disabled-fill-color: #666;\n",
              "  }\n",
              "\n",
              "  .colab-df-quickchart {\n",
              "    background-color: var(--bg-color);\n",
              "    border: none;\n",
              "    border-radius: 50%;\n",
              "    cursor: pointer;\n",
              "    display: none;\n",
              "    fill: var(--fill-color);\n",
              "    height: 32px;\n",
              "    padding: 0;\n",
              "    width: 32px;\n",
              "  }\n",
              "\n",
              "  .colab-df-quickchart:hover {\n",
              "    background-color: var(--hover-bg-color);\n",
              "    box-shadow: 0 1px 2px rgba(60, 64, 67, 0.3), 0 1px 3px 1px rgba(60, 64, 67, 0.15);\n",
              "    fill: var(--button-hover-fill-color);\n",
              "  }\n",
              "\n",
              "  .colab-df-quickchart-complete:disabled,\n",
              "  .colab-df-quickchart-complete:disabled:hover {\n",
              "    background-color: var(--disabled-bg-color);\n",
              "    fill: var(--disabled-fill-color);\n",
              "    box-shadow: none;\n",
              "  }\n",
              "\n",
              "  .colab-df-spinner {\n",
              "    border: 2px solid var(--fill-color);\n",
              "    border-color: transparent;\n",
              "    border-bottom-color: var(--fill-color);\n",
              "    animation:\n",
              "      spin 1s steps(1) infinite;\n",
              "  }\n",
              "\n",
              "  @keyframes spin {\n",
              "    0% {\n",
              "      border-color: transparent;\n",
              "      border-bottom-color: var(--fill-color);\n",
              "      border-left-color: var(--fill-color);\n",
              "    }\n",
              "    20% {\n",
              "      border-color: transparent;\n",
              "      border-left-color: var(--fill-color);\n",
              "      border-top-color: var(--fill-color);\n",
              "    }\n",
              "    30% {\n",
              "      border-color: transparent;\n",
              "      border-left-color: var(--fill-color);\n",
              "      border-top-color: var(--fill-color);\n",
              "      border-right-color: var(--fill-color);\n",
              "    }\n",
              "    40% {\n",
              "      border-color: transparent;\n",
              "      border-right-color: var(--fill-color);\n",
              "      border-top-color: var(--fill-color);\n",
              "    }\n",
              "    60% {\n",
              "      border-color: transparent;\n",
              "      border-right-color: var(--fill-color);\n",
              "    }\n",
              "    80% {\n",
              "      border-color: transparent;\n",
              "      border-right-color: var(--fill-color);\n",
              "      border-bottom-color: var(--fill-color);\n",
              "    }\n",
              "    90% {\n",
              "      border-color: transparent;\n",
              "      border-bottom-color: var(--fill-color);\n",
              "    }\n",
              "  }\n",
              "</style>\n",
              "\n",
              "  <script>\n",
              "    async function quickchart(key) {\n",
              "      const quickchartButtonEl =\n",
              "        document.querySelector('#' + key + ' button');\n",
              "      quickchartButtonEl.disabled = true;  // To prevent multiple clicks.\n",
              "      quickchartButtonEl.classList.add('colab-df-spinner');\n",
              "      try {\n",
              "        const charts = await google.colab.kernel.invokeFunction(\n",
              "            'suggestCharts', [key], {});\n",
              "      } catch (error) {\n",
              "        console.error('Error during call to suggestCharts:', error);\n",
              "      }\n",
              "      quickchartButtonEl.classList.remove('colab-df-spinner');\n",
              "      quickchartButtonEl.classList.add('colab-df-quickchart-complete');\n",
              "    }\n",
              "    (() => {\n",
              "      let quickchartButtonEl =\n",
              "        document.querySelector('#df-7a4d7449-5cde-4790-a131-ebf0051c2b56 button');\n",
              "      quickchartButtonEl.style.display =\n",
              "        google.colab.kernel.accessAllowed ? 'block' : 'none';\n",
              "    })();\n",
              "  </script>\n",
              "</div>\n",
              "\n",
              "    </div>\n",
              "  </div>\n"
            ],
            "application/vnd.google.colaboratory.intrinsic+json": {
              "type": "dataframe",
              "variable_name": "predProbGivenText_df",
              "summary": "{\n  \"name\": \"predProbGivenText_df\",\n  \"rows\": 3263,\n  \"fields\": [\n    {\n      \"column\": 0,\n      \"properties\": {\n        \"dtype\": \"float32\",\n        \"num_unique_values\": 1169,\n        \"samples\": [\n          0.004038912709802389,\n          2.1944593754597008e-05,\n          3.1481948124800763e-12\n        ],\n        \"semantic_type\": \"\",\n        \"description\": \"\"\n      }\n    },\n    {\n      \"column\": 1,\n      \"properties\": {\n        \"dtype\": \"float32\",\n        \"num_unique_values\": 2525,\n        \"samples\": [\n          0.0003816633252426982,\n          5.22478948994376e-10,\n          1.7611930522905966e-13\n        ],\n        \"semantic_type\": \"\",\n        \"description\": \"\"\n      }\n    }\n  ]\n}"
            }
          },
          "metadata": {},
          "execution_count": 56
        }
      ],
      "source": [
        "predProbGivenText_df = pd.DataFrame(y_pred.numpy())\n",
        "predProbGivenText_df.head()"
      ]
    },
    {
      "cell_type": "markdown",
      "metadata": {
        "id": "VR4E0d1tsjj5"
      },
      "source": [
        "# Keyword Naive Bayes"
      ]
    },
    {
      "cell_type": "markdown",
      "metadata": {
        "id": "JtdAJGXnsjj5"
      },
      "source": [
        "Let's look at our unique key words."
      ]
    },
    {
      "cell_type": "code",
      "execution_count": 57,
      "metadata": {
        "colab": {
          "base_uri": "https://localhost:8080/"
        },
        "id": "_Ygxhgivsjj5",
        "outputId": "904a5eca-b9ec-4175-e535-eb1b482422f9"
      },
      "outputs": [
        {
          "output_type": "stream",
          "name": "stdout",
          "text": [
            "221\n",
            "['ablaze' 'accident' 'aftershock' 'airplane%20accident' 'ambulance'\n",
            " 'annihilated' 'annihilation' 'apocalypse' 'armageddon' 'army' 'arson'\n",
            " 'arsonist' 'attack' 'attacked' 'avalanche' 'battle' 'bioterror'\n",
            " 'bioterrorism' 'blaze' 'blazing' 'bleeding' 'blew%20up' 'blight'\n",
            " 'blizzard' 'blood' 'bloody' 'blown%20up' 'body%20bag' 'body%20bagging'\n",
            " 'body%20bags' 'bomb' 'bombed' 'bombing' 'bridge%20collapse'\n",
            " 'buildings%20burning' 'buildings%20on%20fire' 'burned' 'burning'\n",
            " 'burning%20buildings' 'bush%20fires' 'casualties' 'casualty'\n",
            " 'catastrophe' 'catastrophic' 'chemical%20emergency' 'cliff%20fall'\n",
            " 'collapse' 'collapsed' 'collide' 'collided' 'collision' 'crash' 'crashed'\n",
            " 'crush' 'crushed' 'curfew' 'cyclone' 'damage' 'danger' 'dead' 'death'\n",
            " 'deaths' 'debris' 'deluge' 'deluged' 'demolish' 'demolished' 'demolition'\n",
            " 'derail' 'derailed' 'derailment' 'desolate' 'desolation' 'destroy'\n",
            " 'destroyed' 'destruction' 'detonate' 'detonation' 'devastated'\n",
            " 'devastation' 'disaster' 'displaced' 'drought' 'drown' 'drowned'\n",
            " 'drowning' 'dust%20storm' 'earthquake' 'electrocute' 'electrocuted'\n",
            " 'emergency' 'emergency%20plan' 'emergency%20services' 'engulfed'\n",
            " 'epicentre' 'evacuate' 'evacuated' 'evacuation' 'explode' 'exploded'\n",
            " 'explosion' 'eyewitness' 'famine' 'fatal' 'fatalities' 'fatality' 'fear'\n",
            " 'fire' 'fire%20truck' 'first%20responders' 'flames' 'flattened' 'flood'\n",
            " 'flooding' 'floods' 'forest%20fire' 'forest%20fires' 'hail' 'hailstorm'\n",
            " 'harm' 'hazard' 'hazardous' 'heat%20wave' 'hellfire' 'hijack' 'hijacker'\n",
            " 'hijacking' 'hostage' 'hostages' 'hurricane' 'injured' 'injuries'\n",
            " 'injury' 'inundated' 'inundation' 'landslide' 'lava' 'lightning'\n",
            " 'loud%20bang' 'mass%20murder' 'mass%20murderer' 'massacre' 'mayhem'\n",
            " 'meltdown' 'military' 'mudslide' 'natural%20disaster'\n",
            " 'nuclear%20disaster' 'nuclear%20reactor' 'obliterate' 'obliterated'\n",
            " 'obliteration' 'oil%20spill' 'outbreak' 'pandemonium' 'panic' 'panicking'\n",
            " 'police' 'quarantine' 'quarantined' 'radiation%20emergency' 'rainstorm'\n",
            " 'razed' 'refugees' 'rescue' 'rescued' 'rescuers' 'riot' 'rioting'\n",
            " 'rubble' 'ruin' 'sandstorm' 'screamed' 'screaming' 'screams' 'seismic'\n",
            " 'sinkhole' 'sinking' 'siren' 'sirens' 'smoke' 'snowstorm' 'storm'\n",
            " 'stretcher' 'structural%20failure' 'suicide%20bomb' 'suicide%20bomber'\n",
            " 'suicide%20bombing' 'sunk' 'survive' 'survived' 'survivors' 'terrorism'\n",
            " 'terrorist' 'threat' 'thunder' 'thunderstorm' 'tornado' 'tragedy'\n",
            " 'trapped' 'trauma' 'traumatised' 'trouble' 'tsunami' 'twister' 'typhoon'\n",
            " 'upheaval' 'violent%20storm' 'volcano' 'war%20zone' 'weapon' 'weapons'\n",
            " 'whirlwind' 'wild%20fires' 'wildfire' 'windstorm' 'wounded' 'wounds'\n",
            " 'wreck' 'wreckage' 'wrecked']\n"
          ]
        }
      ],
      "source": [
        "uniq_keywords = train_df[\"keyword\"].unique()[1:]\n",
        "print(len(uniq_keywords))\n",
        "print(uniq_keywords)"
      ]
    },
    {
      "cell_type": "markdown",
      "metadata": {
        "id": "Xp0JiKD2sjj5"
      },
      "source": [
        "I noticed that there are some keywords that are very similar to each other so I decided to manually make them the same word."
      ]
    },
    {
      "cell_type": "code",
      "execution_count": 58,
      "metadata": {
        "id": "GFlBT25Xsjj5"
      },
      "outputs": [],
      "source": [
        "def replace_keywords(df_og):\n",
        "    df = df_og.copy()\n",
        "    df[\"keyword\"] = df[\"keyword\"].replace(\"ablaze\",\"blaze\")\n",
        "    df[\"keyword\"] = df[\"keyword\"].replace(\"blazing\",\"blaze\")\n",
        "    df[\"keyword\"] = df[\"keyword\"].replace(\"annihilated\",\"annihilation\")\n",
        "    df[\"keyword\"] = df[\"keyword\"].replace(\"attacked\",\"attack\")\n",
        "    df[\"keyword\"] = df[\"keyword\"].replace(\"bioterror\",\"bioterrorism\")\n",
        "    df[\"keyword\"] = df[\"keyword\"].replace(\"blown%20up\",\"blew%20up\")\n",
        "    df[\"keyword\"] = df[\"keyword\"].replace(\"bloody\",\"blood\")\n",
        "    df[\"keyword\"] = df[\"keyword\"].replace(\"bleeding\",\"blood\")\n",
        "    df[\"keyword\"] = df[\"keyword\"].replace(\"body%20bags\",\"body%20bag\")\n",
        "    df[\"keyword\"] = df[\"keyword\"].replace(\"body%20bagging\",\"body%20bag\")\n",
        "    df[\"keyword\"] = df[\"keyword\"].replace(\"bombed\",\"bomb\")\n",
        "    df[\"keyword\"] = df[\"keyword\"].replace(\"bombing\",\"bomb\")\n",
        "    df[\"keyword\"] = df[\"keyword\"].replace(\"burning%20buildings\",\"buildings%20burning\")\n",
        "    df[\"keyword\"] = df[\"keyword\"].replace(\"buildings%20on%20fire\",\"buildings%20burning\")\n",
        "    df[\"keyword\"] = df[\"keyword\"].replace(\"burned\",\"burning\")\n",
        "    df[\"keyword\"] = df[\"keyword\"].replace(\"casualties\",\"casualty\")\n",
        "    df[\"keyword\"] = df[\"keyword\"].replace(\"catastrophe\",\"catastrophic\")\n",
        "    df[\"keyword\"] = df[\"keyword\"].replace(\"collapse\",\"collapsed\")\n",
        "    df[\"keyword\"] = df[\"keyword\"].replace(\"collide\",\"collision\")\n",
        "    df[\"keyword\"] = df[\"keyword\"].replace(\"collided\",\"collision\")\n",
        "    df[\"keyword\"] = df[\"keyword\"].replace(\"crash\",\"crashed\")\n",
        "    df[\"keyword\"] = df[\"keyword\"].replace(\"crush\",\"crushed\")\n",
        "    df[\"keyword\"] = df[\"keyword\"].replace(\"dead\",\"death\")\n",
        "    df[\"keyword\"] = df[\"keyword\"].replace(\"deaths\",\"death\")\n",
        "    df[\"keyword\"] = df[\"keyword\"].replace(\"deluge\",\"deluged\")\n",
        "    df[\"keyword\"] = df[\"keyword\"].replace(\"demolished\",\"demolish\")\n",
        "    df[\"keyword\"] = df[\"keyword\"].replace(\"demolition\",\"demolish\")\n",
        "    df[\"keyword\"] = df[\"keyword\"].replace(\"derailment\",\"derail\")\n",
        "    df[\"keyword\"] = df[\"keyword\"].replace(\"derailed\",\"derail\")\n",
        "    df[\"keyword\"] = df[\"keyword\"].replace(\"desolation\",\"desolate\")\n",
        "    df[\"keyword\"] = df[\"keyword\"].replace(\"destroyed\",\"destroy\")\n",
        "    df[\"keyword\"] = df[\"keyword\"].replace(\"destruction\",\"destroy\")\n",
        "    df[\"keyword\"] = df[\"keyword\"].replace(\"detonate\",\"detonation\")\n",
        "    df[\"keyword\"] = df[\"keyword\"].replace(\"devastated\",\"devastation\")\n",
        "    df[\"keyword\"] = df[\"keyword\"].replace(\"drowned\",\"drown\")\n",
        "    df[\"keyword\"] = df[\"keyword\"].replace(\"drowning\",\"drown\")\n",
        "    df[\"keyword\"] = df[\"keyword\"].replace(\"electrocute\",\"electrocuted\")\n",
        "    df[\"keyword\"] = df[\"keyword\"].replace(\"evacuated\",\"evacuate\")\n",
        "    df[\"keyword\"] = df[\"keyword\"].replace(\"evacuation\",\"evacuate\")\n",
        "    df[\"keyword\"] = df[\"keyword\"].replace(\"explode\",\"explosion\")\n",
        "    df[\"keyword\"] = df[\"keyword\"].replace(\"exploded\",\"explosion\")\n",
        "    df[\"keyword\"] = df[\"keyword\"].replace(\"fatality\",\"fatalities\")\n",
        "    df[\"keyword\"] = df[\"keyword\"].replace(\"floods\",\"flood\")\n",
        "    df[\"keyword\"] = df[\"keyword\"].replace(\"flooding\",\"flood\")\n",
        "    df[\"keyword\"] = df[\"keyword\"].replace(\"bush%20fires\",\"forest%20fire\")\n",
        "    df[\"keyword\"] = df[\"keyword\"].replace(\"forest%20fires\",\"forest%20fire\")\n",
        "    df[\"keyword\"] = df[\"keyword\"].replace(\"hailstorm\",\"hail\")\n",
        "    df[\"keyword\"] = df[\"keyword\"].replace(\"hazardous\",\"hazard\")\n",
        "    df[\"keyword\"] = df[\"keyword\"].replace(\"hijacking\",\"hijack\")\n",
        "    df[\"keyword\"] = df[\"keyword\"].replace(\"hijacker\",\"hijack\")\n",
        "    df[\"keyword\"] = df[\"keyword\"].replace(\"hostages\",\"hostage\")\n",
        "    df[\"keyword\"] = df[\"keyword\"].replace(\"injured\",\"injury\")\n",
        "    df[\"keyword\"] = df[\"keyword\"].replace(\"injures\",\"injury\")\n",
        "    df[\"keyword\"] = df[\"keyword\"].replace(\"inundated\",\"inundation\")\n",
        "    df[\"keyword\"] = df[\"keyword\"].replace(\"mass%20murderer\",\"mass%20murder\")\n",
        "    df[\"keyword\"] = df[\"keyword\"].replace(\"obliterated\",\"obliterate\")\n",
        "    df[\"keyword\"] = df[\"keyword\"].replace(\"obliteration\",\"obliterate\")\n",
        "    df[\"keyword\"] = df[\"keyword\"].replace(\"panicking\",\"panic\")\n",
        "    df[\"keyword\"] = df[\"keyword\"].replace(\"quarantined\",\"quarantine\")\n",
        "    df[\"keyword\"] = df[\"keyword\"].replace(\"rescuers\",\"rescue\")\n",
        "    df[\"keyword\"] = df[\"keyword\"].replace(\"rescued\",\"rescue\")\n",
        "    df[\"keyword\"] = df[\"keyword\"].replace(\"rioting\",\"riot\")\n",
        "    df[\"keyword\"] = df[\"keyword\"].replace(\"dust%20storm\",\"sandstorm\")\n",
        "    df[\"keyword\"] = df[\"keyword\"].replace(\"screamed\",\"screams\")\n",
        "    df[\"keyword\"] = df[\"keyword\"].replace(\"screaming\",\"screams\")\n",
        "    df[\"keyword\"] = df[\"keyword\"].replace(\"sirens\",\"siren\")\n",
        "    df[\"keyword\"] = df[\"keyword\"].replace(\"suicide%20bomb\",\"suicide%20bomber\")\n",
        "    df[\"keyword\"] = df[\"keyword\"].replace(\"suicide%20bombing\",\"suicide%20bomber\")\n",
        "    df[\"keyword\"] = df[\"keyword\"].replace(\"survived\",\"survive\")\n",
        "    df[\"keyword\"] = df[\"keyword\"].replace(\"survivors\",\"survive\")\n",
        "    df[\"keyword\"] = df[\"keyword\"].replace(\"terrorism\",\"terrorist\")\n",
        "    df[\"keyword\"] = df[\"keyword\"].replace(\"thunderstorm\",\"thunder\")\n",
        "    df[\"keyword\"] = df[\"keyword\"].replace(\"traumatised\",\"trauma\")\n",
        "    df[\"keyword\"] = df[\"keyword\"].replace(\"twister\",\"tornado\")\n",
        "    df[\"keyword\"] = df[\"keyword\"].replace(\"typhoon\",\"hurricane\")\n",
        "    df[\"keyword\"] = df[\"keyword\"].replace(\"weapons\",\"weapon\")\n",
        "    df[\"keyword\"] = df[\"keyword\"].replace(\"wild%20fires\",\"wildfire\")\n",
        "    df[\"keyword\"] = df[\"keyword\"].replace(\"wounded\",\"wounds\")\n",
        "    df[\"keyword\"] = df[\"keyword\"].replace(\"wrecked\",\"wreckage\")\n",
        "    df[\"keyword\"] = df[\"keyword\"].replace(\"wreck\",\"wreckage\")\n",
        "    return(df)"
      ]
    },
    {
      "cell_type": "code",
      "execution_count": 59,
      "metadata": {
        "id": "yEFcGvwDsjj6"
      },
      "outputs": [],
      "source": [
        "train_df = replace_keywords(train_df)\n",
        "test_df = replace_keywords(test_df)"
      ]
    },
    {
      "cell_type": "markdown",
      "metadata": {
        "id": "d0-a2Eimsjj6"
      },
      "source": [
        "Using the updated set of keywords let's get the probability for each target given a specific key word."
      ]
    },
    {
      "cell_type": "code",
      "execution_count": 60,
      "metadata": {
        "colab": {
          "base_uri": "https://localhost:8080/",
          "height": 224
        },
        "id": "x07fySA4sjj6",
        "outputId": "f3b4c28f-4bb3-44e1-d457-ddecbe50c6fc"
      },
      "outputs": [
        {
          "output_type": "stream",
          "name": "stdout",
          "text": [
            "142\n"
          ]
        },
        {
          "output_type": "execute_result",
          "data": {
            "text/plain": [
              "               keyword  keywordPred0  keywordPred1\n",
              "0                blaze      0.824074      0.175926\n",
              "0             accident      0.314286      0.685714\n",
              "0           aftershock      1.000000      0.000000\n",
              "0  airplane%20accident      0.142857      0.857143\n",
              "0            ambulance      0.473684      0.526316"
            ],
            "text/html": [
              "\n",
              "  <div id=\"df-c1b7349e-78b3-4d1c-a75e-9f062289f1b0\" class=\"colab-df-container\">\n",
              "    <div>\n",
              "<style scoped>\n",
              "    .dataframe tbody tr th:only-of-type {\n",
              "        vertical-align: middle;\n",
              "    }\n",
              "\n",
              "    .dataframe tbody tr th {\n",
              "        vertical-align: top;\n",
              "    }\n",
              "\n",
              "    .dataframe thead th {\n",
              "        text-align: right;\n",
              "    }\n",
              "</style>\n",
              "<table border=\"1\" class=\"dataframe\">\n",
              "  <thead>\n",
              "    <tr style=\"text-align: right;\">\n",
              "      <th></th>\n",
              "      <th>keyword</th>\n",
              "      <th>keywordPred0</th>\n",
              "      <th>keywordPred1</th>\n",
              "    </tr>\n",
              "  </thead>\n",
              "  <tbody>\n",
              "    <tr>\n",
              "      <th>0</th>\n",
              "      <td>blaze</td>\n",
              "      <td>0.824074</td>\n",
              "      <td>0.175926</td>\n",
              "    </tr>\n",
              "    <tr>\n",
              "      <th>0</th>\n",
              "      <td>accident</td>\n",
              "      <td>0.314286</td>\n",
              "      <td>0.685714</td>\n",
              "    </tr>\n",
              "    <tr>\n",
              "      <th>0</th>\n",
              "      <td>aftershock</td>\n",
              "      <td>1.000000</td>\n",
              "      <td>0.000000</td>\n",
              "    </tr>\n",
              "    <tr>\n",
              "      <th>0</th>\n",
              "      <td>airplane%20accident</td>\n",
              "      <td>0.142857</td>\n",
              "      <td>0.857143</td>\n",
              "    </tr>\n",
              "    <tr>\n",
              "      <th>0</th>\n",
              "      <td>ambulance</td>\n",
              "      <td>0.473684</td>\n",
              "      <td>0.526316</td>\n",
              "    </tr>\n",
              "  </tbody>\n",
              "</table>\n",
              "</div>\n",
              "    <div class=\"colab-df-buttons\">\n",
              "\n",
              "  <div class=\"colab-df-container\">\n",
              "    <button class=\"colab-df-convert\" onclick=\"convertToInteractive('df-c1b7349e-78b3-4d1c-a75e-9f062289f1b0')\"\n",
              "            title=\"Convert this dataframe to an interactive table.\"\n",
              "            style=\"display:none;\">\n",
              "\n",
              "  <svg xmlns=\"http://www.w3.org/2000/svg\" height=\"24px\" viewBox=\"0 -960 960 960\">\n",
              "    <path d=\"M120-120v-720h720v720H120Zm60-500h600v-160H180v160Zm220 220h160v-160H400v160Zm0 220h160v-160H400v160ZM180-400h160v-160H180v160Zm440 0h160v-160H620v160ZM180-180h160v-160H180v160Zm440 0h160v-160H620v160Z\"/>\n",
              "  </svg>\n",
              "    </button>\n",
              "\n",
              "  <style>\n",
              "    .colab-df-container {\n",
              "      display:flex;\n",
              "      gap: 12px;\n",
              "    }\n",
              "\n",
              "    .colab-df-convert {\n",
              "      background-color: #E8F0FE;\n",
              "      border: none;\n",
              "      border-radius: 50%;\n",
              "      cursor: pointer;\n",
              "      display: none;\n",
              "      fill: #1967D2;\n",
              "      height: 32px;\n",
              "      padding: 0 0 0 0;\n",
              "      width: 32px;\n",
              "    }\n",
              "\n",
              "    .colab-df-convert:hover {\n",
              "      background-color: #E2EBFA;\n",
              "      box-shadow: 0px 1px 2px rgba(60, 64, 67, 0.3), 0px 1px 3px 1px rgba(60, 64, 67, 0.15);\n",
              "      fill: #174EA6;\n",
              "    }\n",
              "\n",
              "    .colab-df-buttons div {\n",
              "      margin-bottom: 4px;\n",
              "    }\n",
              "\n",
              "    [theme=dark] .colab-df-convert {\n",
              "      background-color: #3B4455;\n",
              "      fill: #D2E3FC;\n",
              "    }\n",
              "\n",
              "    [theme=dark] .colab-df-convert:hover {\n",
              "      background-color: #434B5C;\n",
              "      box-shadow: 0px 1px 3px 1px rgba(0, 0, 0, 0.15);\n",
              "      filter: drop-shadow(0px 1px 2px rgba(0, 0, 0, 0.3));\n",
              "      fill: #FFFFFF;\n",
              "    }\n",
              "  </style>\n",
              "\n",
              "    <script>\n",
              "      const buttonEl =\n",
              "        document.querySelector('#df-c1b7349e-78b3-4d1c-a75e-9f062289f1b0 button.colab-df-convert');\n",
              "      buttonEl.style.display =\n",
              "        google.colab.kernel.accessAllowed ? 'block' : 'none';\n",
              "\n",
              "      async function convertToInteractive(key) {\n",
              "        const element = document.querySelector('#df-c1b7349e-78b3-4d1c-a75e-9f062289f1b0');\n",
              "        const dataTable =\n",
              "          await google.colab.kernel.invokeFunction('convertToInteractive',\n",
              "                                                    [key], {});\n",
              "        if (!dataTable) return;\n",
              "\n",
              "        const docLinkHtml = 'Like what you see? Visit the ' +\n",
              "          '<a target=\"_blank\" href=https://colab.research.google.com/notebooks/data_table.ipynb>data table notebook</a>'\n",
              "          + ' to learn more about interactive tables.';\n",
              "        element.innerHTML = '';\n",
              "        dataTable['output_type'] = 'display_data';\n",
              "        await google.colab.output.renderOutput(dataTable, element);\n",
              "        const docLink = document.createElement('div');\n",
              "        docLink.innerHTML = docLinkHtml;\n",
              "        element.appendChild(docLink);\n",
              "      }\n",
              "    </script>\n",
              "  </div>\n",
              "\n",
              "\n",
              "<div id=\"df-8cdbec64-8ef7-4803-949d-eb4d85e886ed\">\n",
              "  <button class=\"colab-df-quickchart\" onclick=\"quickchart('df-8cdbec64-8ef7-4803-949d-eb4d85e886ed')\"\n",
              "            title=\"Suggest charts\"\n",
              "            style=\"display:none;\">\n",
              "\n",
              "<svg xmlns=\"http://www.w3.org/2000/svg\" height=\"24px\"viewBox=\"0 0 24 24\"\n",
              "     width=\"24px\">\n",
              "    <g>\n",
              "        <path d=\"M19 3H5c-1.1 0-2 .9-2 2v14c0 1.1.9 2 2 2h14c1.1 0 2-.9 2-2V5c0-1.1-.9-2-2-2zM9 17H7v-7h2v7zm4 0h-2V7h2v10zm4 0h-2v-4h2v4z\"/>\n",
              "    </g>\n",
              "</svg>\n",
              "  </button>\n",
              "\n",
              "<style>\n",
              "  .colab-df-quickchart {\n",
              "      --bg-color: #E8F0FE;\n",
              "      --fill-color: #1967D2;\n",
              "      --hover-bg-color: #E2EBFA;\n",
              "      --hover-fill-color: #174EA6;\n",
              "      --disabled-fill-color: #AAA;\n",
              "      --disabled-bg-color: #DDD;\n",
              "  }\n",
              "\n",
              "  [theme=dark] .colab-df-quickchart {\n",
              "      --bg-color: #3B4455;\n",
              "      --fill-color: #D2E3FC;\n",
              "      --hover-bg-color: #434B5C;\n",
              "      --hover-fill-color: #FFFFFF;\n",
              "      --disabled-bg-color: #3B4455;\n",
              "      --disabled-fill-color: #666;\n",
              "  }\n",
              "\n",
              "  .colab-df-quickchart {\n",
              "    background-color: var(--bg-color);\n",
              "    border: none;\n",
              "    border-radius: 50%;\n",
              "    cursor: pointer;\n",
              "    display: none;\n",
              "    fill: var(--fill-color);\n",
              "    height: 32px;\n",
              "    padding: 0;\n",
              "    width: 32px;\n",
              "  }\n",
              "\n",
              "  .colab-df-quickchart:hover {\n",
              "    background-color: var(--hover-bg-color);\n",
              "    box-shadow: 0 1px 2px rgba(60, 64, 67, 0.3), 0 1px 3px 1px rgba(60, 64, 67, 0.15);\n",
              "    fill: var(--button-hover-fill-color);\n",
              "  }\n",
              "\n",
              "  .colab-df-quickchart-complete:disabled,\n",
              "  .colab-df-quickchart-complete:disabled:hover {\n",
              "    background-color: var(--disabled-bg-color);\n",
              "    fill: var(--disabled-fill-color);\n",
              "    box-shadow: none;\n",
              "  }\n",
              "\n",
              "  .colab-df-spinner {\n",
              "    border: 2px solid var(--fill-color);\n",
              "    border-color: transparent;\n",
              "    border-bottom-color: var(--fill-color);\n",
              "    animation:\n",
              "      spin 1s steps(1) infinite;\n",
              "  }\n",
              "\n",
              "  @keyframes spin {\n",
              "    0% {\n",
              "      border-color: transparent;\n",
              "      border-bottom-color: var(--fill-color);\n",
              "      border-left-color: var(--fill-color);\n",
              "    }\n",
              "    20% {\n",
              "      border-color: transparent;\n",
              "      border-left-color: var(--fill-color);\n",
              "      border-top-color: var(--fill-color);\n",
              "    }\n",
              "    30% {\n",
              "      border-color: transparent;\n",
              "      border-left-color: var(--fill-color);\n",
              "      border-top-color: var(--fill-color);\n",
              "      border-right-color: var(--fill-color);\n",
              "    }\n",
              "    40% {\n",
              "      border-color: transparent;\n",
              "      border-right-color: var(--fill-color);\n",
              "      border-top-color: var(--fill-color);\n",
              "    }\n",
              "    60% {\n",
              "      border-color: transparent;\n",
              "      border-right-color: var(--fill-color);\n",
              "    }\n",
              "    80% {\n",
              "      border-color: transparent;\n",
              "      border-right-color: var(--fill-color);\n",
              "      border-bottom-color: var(--fill-color);\n",
              "    }\n",
              "    90% {\n",
              "      border-color: transparent;\n",
              "      border-bottom-color: var(--fill-color);\n",
              "    }\n",
              "  }\n",
              "</style>\n",
              "\n",
              "  <script>\n",
              "    async function quickchart(key) {\n",
              "      const quickchartButtonEl =\n",
              "        document.querySelector('#' + key + ' button');\n",
              "      quickchartButtonEl.disabled = true;  // To prevent multiple clicks.\n",
              "      quickchartButtonEl.classList.add('colab-df-spinner');\n",
              "      try {\n",
              "        const charts = await google.colab.kernel.invokeFunction(\n",
              "            'suggestCharts', [key], {});\n",
              "      } catch (error) {\n",
              "        console.error('Error during call to suggestCharts:', error);\n",
              "      }\n",
              "      quickchartButtonEl.classList.remove('colab-df-spinner');\n",
              "      quickchartButtonEl.classList.add('colab-df-quickchart-complete');\n",
              "    }\n",
              "    (() => {\n",
              "      let quickchartButtonEl =\n",
              "        document.querySelector('#df-8cdbec64-8ef7-4803-949d-eb4d85e886ed button');\n",
              "      quickchartButtonEl.style.display =\n",
              "        google.colab.kernel.accessAllowed ? 'block' : 'none';\n",
              "    })();\n",
              "  </script>\n",
              "</div>\n",
              "\n",
              "    </div>\n",
              "  </div>\n"
            ],
            "application/vnd.google.colaboratory.intrinsic+json": {
              "type": "dataframe",
              "variable_name": "predProbGivenKeyWord_df",
              "summary": "{\n  \"name\": \"predProbGivenKeyWord_df\",\n  \"rows\": 142,\n  \"fields\": [\n    {\n      \"column\": \"keyword\",\n      \"properties\": {\n        \"dtype\": \"string\",\n        \"num_unique_values\": 142,\n        \"samples\": [\n          \"tsunami\",\n          \"body%20bag\",\n          \"inundation\"\n        ],\n        \"semantic_type\": \"\",\n        \"description\": \"\"\n      }\n    },\n    {\n      \"column\": \"keywordPred0\",\n      \"properties\": {\n        \"dtype\": \"number\",\n        \"std\": 0.24863236913472472,\n        \"min\": 0.0,\n        \"max\": 1.0,\n        \"num_unique_values\": 126,\n        \"samples\": [\n          0.25,\n          0.9345794392523364,\n          0.803030303030303\n        ],\n        \"semantic_type\": \"\",\n        \"description\": \"\"\n      }\n    },\n    {\n      \"column\": \"keywordPred1\",\n      \"properties\": {\n        \"dtype\": \"number\",\n        \"std\": 0.24863236913472467,\n        \"min\": 0.0,\n        \"max\": 1.0,\n        \"num_unique_values\": 126,\n        \"samples\": [\n          0.75,\n          0.06542056074766354,\n          0.19696969696969696\n        ],\n        \"semantic_type\": \"\",\n        \"description\": \"\"\n      }\n    }\n  ]\n}"
            }
          },
          "metadata": {},
          "execution_count": 60
        }
      ],
      "source": [
        "uniq_keywords = train_df[\"keyword\"].unique()[1:]\n",
        "kword_resArr = []\n",
        "print(len(uniq_keywords))\n",
        "for kword in uniq_keywords:\n",
        "    kword_df = train_df.loc[train_df[\"keyword\"] == kword,: ]\n",
        "    total_kword = float(len(kword_df))\n",
        "    target0_n = float(len(kword_df.loc[kword_df[\"target\"]==0,:]))\n",
        "    target1_n = float(len(kword_df.loc[kword_df[\"target\"]==1,:]))\n",
        "    kword_prob_df = pd.DataFrame({'keyword':[kword],\n",
        "                                 \"keywordPred0\": [target0_n/total_kword],\n",
        "                                 \"keywordPred1\": [target1_n/total_kword]})\n",
        "    kword_resArr.append(kword_prob_df)\n",
        "predProbGivenKeyWord_df= pd.concat(kword_resArr)\n",
        "predProbGivenKeyWord_df.head()"
      ]
    },
    {
      "cell_type": "markdown",
      "metadata": {
        "id": "CMz_JOWKsjj6"
      },
      "source": [
        "# Create submission file"
      ]
    },
    {
      "cell_type": "markdown",
      "metadata": {
        "id": "JXgGm1Tisjj6"
      },
      "source": [
        "get probabilities given the tweet text"
      ]
    },
    {
      "cell_type": "code",
      "execution_count": null,
      "metadata": {
        "id": "S1-7Wzdosjj6"
      },
      "outputs": [],
      "source": [
        "test_df[\"textprob0\"]=predProbGivenText_df.loc[:,0].copy()\n",
        "test_df[\"textprob1\"]=predProbGivenText_df.loc[:,1].copy()\n",
        "test_df.head()"
      ]
    },
    {
      "cell_type": "markdown",
      "metadata": {
        "id": "xgGQMSzCsjj7"
      },
      "source": [
        "get the probabilities given the key words. Note that if there is no key word than the probability is 50% for both targets."
      ]
    },
    {
      "cell_type": "code",
      "execution_count": null,
      "metadata": {
        "id": "W1HfPeaesjj7"
      },
      "outputs": [],
      "source": [
        "test_df = test_df.merge(predProbGivenKeyWord_df, how='left', on=\"keyword\")"
      ]
    },
    {
      "cell_type": "code",
      "execution_count": null,
      "metadata": {
        "id": "ikWXo0SBsjj7"
      },
      "outputs": [],
      "source": [
        "test_df[\"keywordPred0\"]=test_df[\"keywordPred0\"].fillna(0.5)\n",
        "test_df[\"keywordPred1\"]=test_df[\"keywordPred1\"].fillna(0.5)"
      ]
    },
    {
      "cell_type": "markdown",
      "metadata": {
        "id": "h_3cPnjksjj7"
      },
      "source": [
        "Now let's calculate the probability given the text and the keyword. Then let's choose our prediction based on which target has the higher probability."
      ]
    },
    {
      "cell_type": "code",
      "execution_count": null,
      "metadata": {
        "id": "02nbZ3gosjj7"
      },
      "outputs": [],
      "source": [
        "test_df[\"pred0\"]=test_df[\"textprob0\"]*test_df[\"keywordPred0\"]\n",
        "test_df[\"pred1\"]=test_df[\"textprob1\"]*test_df[\"keywordPred1\"]\n",
        "test_df[\"target\"]=test_df[\"pred1\"]>test_df[\"pred0\"]\n",
        "test_df[\"target\"] = test_df[\"target\"].astype(np.int)"
      ]
    },
    {
      "cell_type": "markdown",
      "metadata": {
        "id": "R3GcV25Ysjj7"
      },
      "source": [
        "Create submission file"
      ]
    },
    {
      "cell_type": "code",
      "execution_count": null,
      "metadata": {
        "id": "zsHoz6Gssjj7"
      },
      "outputs": [],
      "source": [
        "submission_df = test_df.loc[:,[\"id\",\"target\"]]\n",
        "submission_df.head()"
      ]
    },
    {
      "cell_type": "code",
      "execution_count": null,
      "metadata": {
        "id": "Mi_K6JsEsjj7"
      },
      "outputs": [],
      "source": [
        "submission_df.to_csv(\"submission.csv\",index=False)"
      ]
    },
    {
      "cell_type": "markdown",
      "metadata": {
        "id": "Oy3oK23Wsjj7"
      },
      "source": [
        "Note that in the code above I only look at the tweets themselves and the keywords, but many of the tweets do not have keywords. We could maybe create a model to infer keywords from tweets that do not have keywords. We also did not include location in the model."
      ]
    }
  ],
  "metadata": {
    "kernelspec": {
      "display_name": ".venv",
      "language": "python",
      "name": "python3"
    },
    "language_info": {
      "codemirror_mode": {
        "name": "ipython",
        "version": 3
      },
      "file_extension": ".py",
      "mimetype": "text/x-python",
      "name": "python",
      "nbconvert_exporter": "python",
      "pygments_lexer": "ipython3",
      "version": "3.11.6"
    },
    "colab": {
      "provenance": []
    }
  },
  "nbformat": 4,
  "nbformat_minor": 0
}