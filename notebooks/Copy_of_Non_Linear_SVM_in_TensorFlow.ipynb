{
  "cells": [
    {
      "cell_type": "markdown",
      "metadata": {
        "id": "view-in-github",
        "colab_type": "text"
      },
      "source": [
        "<a href=\"https://colab.research.google.com/github/Bie-NHD/Machine-Learning-20242025Sem1/blob/main/notebooks/Copy_of_Non_Linear_SVM_in_TensorFlow.ipynb\" target=\"_parent\"><img src=\"https://colab.research.google.com/assets/colab-badge.svg\" alt=\"Open In Colab\"/></a>"
      ]
    },
    {
      "cell_type": "code",
      "source": [
        "!pip install ucimlrepo"
      ],
      "metadata": {
        "colab": {
          "base_uri": "https://localhost:8080/"
        },
        "id": "e_wqdSCLm4re",
        "outputId": "83cd03b3-b2e9-453b-d8df-ba2d55625c29"
      },
      "execution_count": 2,
      "outputs": [
        {
          "output_type": "stream",
          "name": "stdout",
          "text": [
            "Collecting ucimlrepo\n",
            "  Downloading ucimlrepo-0.0.7-py3-none-any.whl.metadata (5.5 kB)\n",
            "Requirement already satisfied: pandas>=1.0.0 in /usr/local/lib/python3.10/dist-packages (from ucimlrepo) (2.2.2)\n",
            "Requirement already satisfied: certifi>=2020.12.5 in /usr/local/lib/python3.10/dist-packages (from ucimlrepo) (2024.8.30)\n",
            "Requirement already satisfied: numpy>=1.22.4 in /usr/local/lib/python3.10/dist-packages (from pandas>=1.0.0->ucimlrepo) (1.26.4)\n",
            "Requirement already satisfied: python-dateutil>=2.8.2 in /usr/local/lib/python3.10/dist-packages (from pandas>=1.0.0->ucimlrepo) (2.8.2)\n",
            "Requirement already satisfied: pytz>=2020.1 in /usr/local/lib/python3.10/dist-packages (from pandas>=1.0.0->ucimlrepo) (2024.2)\n",
            "Requirement already satisfied: tzdata>=2022.7 in /usr/local/lib/python3.10/dist-packages (from pandas>=1.0.0->ucimlrepo) (2024.2)\n",
            "Requirement already satisfied: six>=1.5 in /usr/local/lib/python3.10/dist-packages (from python-dateutil>=2.8.2->pandas>=1.0.0->ucimlrepo) (1.16.0)\n",
            "Downloading ucimlrepo-0.0.7-py3-none-any.whl (8.0 kB)\n",
            "Installing collected packages: ucimlrepo\n",
            "Successfully installed ucimlrepo-0.0.7\n"
          ]
        }
      ]
    },
    {
      "source": [
        "# IMPORTANT: RUN THIS CELL IN ORDER TO IMPORT YOUR KAGGLE DATA SOURCES,\n",
        "# THEN FEEL FREE TO DELETE THIS CELL.\n",
        "# NOTE: THIS NOTEBOOK ENVIRONMENT DIFFERS FROM KAGGLE'S PYTHON\n",
        "# ENVIRONMENT SO THERE MAY BE MISSING LIBRARIES USED BY YOUR\n",
        "# NOTEBOOK.\n",
        "import kagglehub\n",
        "organizations_uciml_iris_path = kagglehub.dataset_download('organizations/uciml/iris')\n",
        "\n",
        "print('Data source import complete.')\n"
      ],
      "metadata": {
        "id": "1Koei0HDmTEZ",
        "colab": {
          "base_uri": "https://localhost:8080/",
          "height": 356
        },
        "outputId": "0b0a34f8-a12d-49b0-9b6a-3eac29bf3e0e"
      },
      "cell_type": "code",
      "outputs": [
        {
          "output_type": "error",
          "ename": "ValueError",
          "evalue": "Invalid dataset handle: organizations/uciml/iris",
          "traceback": [
            "\u001b[0;31m---------------------------------------------------------------------------\u001b[0m",
            "\u001b[0;31mValueError\u001b[0m                                Traceback (most recent call last)",
            "\u001b[0;32m<ipython-input-1-e24081cac3ff>\u001b[0m in \u001b[0;36m<cell line: 7>\u001b[0;34m()\u001b[0m\n\u001b[1;32m      5\u001b[0m \u001b[0;31m# NOTEBOOK.\u001b[0m\u001b[0;34m\u001b[0m\u001b[0;34m\u001b[0m\u001b[0m\n\u001b[1;32m      6\u001b[0m \u001b[0;32mimport\u001b[0m \u001b[0mkagglehub\u001b[0m\u001b[0;34m\u001b[0m\u001b[0;34m\u001b[0m\u001b[0m\n\u001b[0;32m----> 7\u001b[0;31m \u001b[0morganizations_uciml_iris_path\u001b[0m \u001b[0;34m=\u001b[0m \u001b[0mkagglehub\u001b[0m\u001b[0;34m.\u001b[0m\u001b[0mdataset_download\u001b[0m\u001b[0;34m(\u001b[0m\u001b[0;34m'organizations/uciml/iris'\u001b[0m\u001b[0;34m)\u001b[0m\u001b[0;34m\u001b[0m\u001b[0;34m\u001b[0m\u001b[0m\n\u001b[0m\u001b[1;32m      8\u001b[0m \u001b[0;34m\u001b[0m\u001b[0m\n\u001b[1;32m      9\u001b[0m \u001b[0mprint\u001b[0m\u001b[0;34m(\u001b[0m\u001b[0;34m'Data source import complete.'\u001b[0m\u001b[0;34m)\u001b[0m\u001b[0;34m\u001b[0m\u001b[0;34m\u001b[0m\u001b[0m\n",
            "\u001b[0;32m/usr/local/lib/python3.10/dist-packages/kagglehub/datasets.py\u001b[0m in \u001b[0;36mdataset_download\u001b[0;34m(handle, path, force_download)\u001b[0m\n\u001b[1;32m     24\u001b[0m     \"\"\"\n\u001b[1;32m     25\u001b[0m \u001b[0;34m\u001b[0m\u001b[0m\n\u001b[0;32m---> 26\u001b[0;31m     \u001b[0mh\u001b[0m \u001b[0;34m=\u001b[0m \u001b[0mparse_dataset_handle\u001b[0m\u001b[0;34m(\u001b[0m\u001b[0mhandle\u001b[0m\u001b[0;34m)\u001b[0m\u001b[0;34m\u001b[0m\u001b[0;34m\u001b[0m\u001b[0m\n\u001b[0m\u001b[1;32m     27\u001b[0m     \u001b[0mlogger\u001b[0m\u001b[0;34m.\u001b[0m\u001b[0minfo\u001b[0m\u001b[0;34m(\u001b[0m\u001b[0;34mf\"Downloading Dataset: {h.to_url()} ...\"\u001b[0m\u001b[0;34m,\u001b[0m \u001b[0mextra\u001b[0m\u001b[0;34m=\u001b[0m\u001b[0;34m{\u001b[0m\u001b[0;34m**\u001b[0m\u001b[0mEXTRA_CONSOLE_BLOCK\u001b[0m\u001b[0;34m}\u001b[0m\u001b[0;34m)\u001b[0m\u001b[0;34m\u001b[0m\u001b[0;34m\u001b[0m\u001b[0m\n\u001b[1;32m     28\u001b[0m     \u001b[0;32mreturn\u001b[0m \u001b[0mregistry\u001b[0m\u001b[0;34m.\u001b[0m\u001b[0mdataset_resolver\u001b[0m\u001b[0;34m(\u001b[0m\u001b[0mh\u001b[0m\u001b[0;34m,\u001b[0m \u001b[0mpath\u001b[0m\u001b[0;34m,\u001b[0m \u001b[0mforce_download\u001b[0m\u001b[0;34m=\u001b[0m\u001b[0mforce_download\u001b[0m\u001b[0;34m)\u001b[0m\u001b[0;34m\u001b[0m\u001b[0;34m\u001b[0m\u001b[0m\n",
            "\u001b[0;32m/usr/local/lib/python3.10/dist-packages/kagglehub/handle.py\u001b[0m in \u001b[0;36mparse_dataset_handle\u001b[0;34m(handle)\u001b[0m\n\u001b[1;32m    110\u001b[0m \u001b[0;34m\u001b[0m\u001b[0m\n\u001b[1;32m    111\u001b[0m     \u001b[0mmsg\u001b[0m \u001b[0;34m=\u001b[0m \u001b[0;34mf\"Invalid dataset handle: {handle}\"\u001b[0m\u001b[0;34m\u001b[0m\u001b[0;34m\u001b[0m\u001b[0m\n\u001b[0;32m--> 112\u001b[0;31m     \u001b[0;32mraise\u001b[0m \u001b[0mValueError\u001b[0m\u001b[0;34m(\u001b[0m\u001b[0mmsg\u001b[0m\u001b[0;34m)\u001b[0m\u001b[0;34m\u001b[0m\u001b[0;34m\u001b[0m\u001b[0m\n\u001b[0m\u001b[1;32m    113\u001b[0m \u001b[0;34m\u001b[0m\u001b[0m\n\u001b[1;32m    114\u001b[0m \u001b[0;34m\u001b[0m\u001b[0m\n",
            "\u001b[0;31mValueError\u001b[0m: Invalid dataset handle: organizations/uciml/iris"
          ]
        }
      ],
      "execution_count": 1
    },
    {
      "cell_type": "code",
      "source": [
        "from ucimlrepo import fetch_ucirepo\n",
        "\n",
        "# fetch dataset\n",
        "iris = fetch_ucirepo(id=53)\n",
        "\n",
        "# data (as pandas dataframes)\n",
        "X = iris.data.features\n",
        "y = iris.data.targets\n",
        "\n",
        "# metadata\n",
        "print(iris.metadata)\n",
        "\n",
        "# variable information\n",
        "print(iris.variables)\n"
      ],
      "metadata": {
        "id": "AfVVazmgm_dL"
      },
      "execution_count": null,
      "outputs": []
    },
    {
      "cell_type": "markdown",
      "metadata": {
        "_cell_guid": "78dd770a-7b0c-16fa-550e-10439e9026b0",
        "id": "3Cf0uTT3mTEb"
      },
      "source": [
        "Implementing multi-class classifier with SVM using non linear kernels.\n",
        "Part 1. Uni-class: Setosa or not?\n",
        "Part 2. Multi-class classification"
      ]
    },
    {
      "cell_type": "code",
      "execution_count": 4,
      "metadata": {
        "_cell_guid": "07cc26de-b83f-894f-72b9-97293d9b5d1d",
        "id": "eO-sJ0HtmTEc",
        "colab": {
          "base_uri": "https://localhost:8080/"
        },
        "outputId": "3344814f-a347-415d-9fd0-30c9d1549515"
      },
      "outputs": [
        {
          "output_type": "stream",
          "name": "stderr",
          "text": [
            "WARNING:tensorflow:From /usr/local/lib/python3.10/dist-packages/tensorflow/python/compat/v2_compat.py:98: disable_resource_variables (from tensorflow.python.ops.resource_variables_toggle) is deprecated and will be removed in a future version.\n",
            "Instructions for updating:\n",
            "non-resource variables are not supported in the long term\n"
          ]
        }
      ],
      "source": [
        "import matplotlib.pyplot as plt\n",
        "import numpy as np\n",
        "# import tensorflow as tf\n",
        "from sklearn import datasets\n",
        "# If you need to use a session for compatibility, use the following:\n",
        "import tensorflow.compat.v1 as tf\n",
        "tf.disable_v2_behavior()\n",
        "sess = tf.Session()"
      ]
    },
    {
      "cell_type": "code",
      "execution_count": 5,
      "metadata": {
        "_cell_guid": "09b02f46-b77b-2ef8-2073-196bcbc0ed07",
        "id": "95YkeS0ymTEc",
        "outputId": "6194e06d-cc18-4f3b-bebb-cace634b8be5",
        "colab": {
          "base_uri": "https://localhost:8080/",
          "height": 17
        }
      },
      "outputs": [
        {
          "output_type": "display_data",
          "data": {
            "text/html": [
              "        <script type=\"text/javascript\">\n",
              "        window.PlotlyConfig = {MathJaxConfig: 'local'};\n",
              "        if (window.MathJax && window.MathJax.Hub && window.MathJax.Hub.Config) {window.MathJax.Hub.Config({SVG: {font: \"STIX-Web\"}});}\n",
              "        if (typeof require !== 'undefined') {\n",
              "        require.undef(\"plotly\");\n",
              "        requirejs.config({\n",
              "            paths: {\n",
              "                'plotly': ['https://cdn.plot.ly/plotly-2.35.2.min']\n",
              "            }\n",
              "        });\n",
              "        require(['plotly'], function(Plotly) {\n",
              "            window._Plotly = Plotly;\n",
              "        });\n",
              "        }\n",
              "        </script>\n",
              "        "
            ]
          },
          "metadata": {}
        }
      ],
      "source": [
        "import pandas as pd # data processing, CSV file I/O (e.g. pd.read_csv)\n",
        "import os\n",
        "import gc\n",
        "import seaborn as sns\n",
        "\n",
        "from scipy import ndimage\n",
        "from subprocess import check_output\n",
        "\n",
        "import cv2\n",
        "\n",
        "\n",
        "pal = sns.color_palette()\n",
        "\n",
        "import plotly.offline as py\n",
        "py.init_notebook_mode(connected=True)\n",
        "import plotly.graph_objs as go\n",
        "import plotly.tools as tls"
      ]
    },
    {
      "cell_type": "code",
      "execution_count": 6,
      "metadata": {
        "_cell_guid": "ed7d8f49-7f1d-9dfa-0c82-9285bd2cb0a8",
        "id": "ggfCEBQqmTEd"
      },
      "outputs": [],
      "source": [
        "iris = datasets.load_iris()\n",
        "x_vals = np.array([[x[0], x[3]] for x in iris.data])\n",
        "y_vals = np.array([1 if y==0 else -1 for y in iris.target])\n",
        "class1_x = [x[0] for i,x in enumerate(x_vals) if\n",
        "y_vals[i]==1]\n",
        "class1_y = [x[1] for i,x in enumerate(x_vals) if\n",
        "y_vals[i]==1]\n",
        "class2_x = [x[0] for i,x in enumerate(x_vals) if\n",
        "y_vals[i]==-1]\n",
        "class2_y = [x[1] for i,x in enumerate(x_vals) if\n",
        "y_vals[i]==-1]"
      ]
    },
    {
      "cell_type": "code",
      "execution_count": 7,
      "metadata": {
        "_cell_guid": "790020a6-0ab6-5bbb-11ec-f464b66a7024",
        "id": "6Mp_0bFumTEd"
      },
      "outputs": [],
      "source": [
        "batch_size = 100\n",
        "x_data = tf.placeholder(shape=[None, 2], dtype=tf.float32)\n",
        "y_target = tf.placeholder(shape=[None, 1], dtype=tf.float32)\n",
        "prediction_grid = tf.placeholder(shape=[None, 2],\n",
        "dtype=tf.float32)\n",
        "b = tf.Variable(tf.random_normal(shape=[1,batch_size]))"
      ]
    },
    {
      "cell_type": "code",
      "execution_count": 8,
      "metadata": {
        "_cell_guid": "22ea33cf-ea66-afd4-28cc-f1b60dcf4226",
        "id": "Sb-rwSi2mTEe"
      },
      "outputs": [],
      "source": [
        "gamma = tf.constant(-10.0) # feel free to explore different values of gamma\n",
        "dist = tf.reduce_sum(tf.square(x_data), 1)\n",
        "dist = tf.reshape(dist, [-1,1])\n",
        "sq_dists = tf.add(tf.subtract(dist, tf.multiply(2., tf.matmul(x_data,\n",
        "tf.transpose(x_data)))), tf.transpose(dist))\n",
        "my_kernel = tf.exp(tf.multiply(gamma, tf.abs(sq_dists)))\n",
        "#We now compute the loss for the dual optimization problem, as follows:\n",
        "model_output = tf.matmul(b, my_kernel)\n",
        "first_term = tf.reduce_sum(b)\n",
        "b_vec_cross = tf.matmul(tf.transpose(b), b)\n",
        "y_target_cross = tf.matmul(y_target, tf.transpose(y_target))\n",
        "second_term = tf.reduce_sum(tf.multiply(my_kernel,\n",
        "tf.multiply(b_vec_cross, y_target_cross)))\n",
        "loss = tf.negative(tf.subtract(first_term, second_term))"
      ]
    },
    {
      "cell_type": "code",
      "execution_count": 9,
      "metadata": {
        "_cell_guid": "e5b52e41-8493-c21a-c5aa-4a14f0ec1b2e",
        "id": "P5UmFFRwmTEe"
      },
      "outputs": [],
      "source": [
        "rA = tf.reshape(tf.reduce_sum(tf.square(x_data), 1),[-1,1])\n",
        "rB = tf.reshape(tf.reduce_sum(tf.square(prediction_grid), 1),\n",
        "[-1,1])\n",
        "pred_sq_dist = tf.add(tf.subtract(rA, tf.multiply(2., tf.matmul(x_data,\n",
        "tf.transpose(prediction_grid)))), tf.transpose(rB))"
      ]
    },
    {
      "cell_type": "code",
      "execution_count": 10,
      "metadata": {
        "_cell_guid": "ae5e8991-a9cb-7af6-f8a3-dc3371ea0e30",
        "id": "2qjNs0H5mTEf"
      },
      "outputs": [],
      "source": [
        "pred_kernel = tf.exp(tf.multiply(gamma, tf.abs(pred_sq_dist)))\n",
        "prediction_output =tf.matmul(tf.multiply(tf.transpose(y_target),b), pred_kernel)\n"
      ]
    },
    {
      "cell_type": "code",
      "execution_count": 11,
      "metadata": {
        "_cell_guid": "2b260863-c30e-ee6f-4a90-26e3a7dc1b23",
        "id": "zJkvRXLWmTEf"
      },
      "outputs": [],
      "source": [
        "prediction = tf.sign(prediction_output-tf.reduce_mean(prediction_output))"
      ]
    },
    {
      "cell_type": "code",
      "execution_count": 12,
      "metadata": {
        "_cell_guid": "3243d582-febe-7ecf-70d4-124fe81585b8",
        "id": "emPZ1J2fmTEf"
      },
      "outputs": [],
      "source": [
        "accuracy =tf.reduce_mean(tf.cast(tf.equal(tf.squeeze(prediction),tf.squeeze(y_target)), tf.float32))"
      ]
    },
    {
      "cell_type": "code",
      "execution_count": 13,
      "metadata": {
        "_cell_guid": "9d280155-e640-df4f-4ab2-d8815cd54a97",
        "id": "w-dkJetJmTEf"
      },
      "outputs": [],
      "source": [
        "my_opt = tf.train.GradientDescentOptimizer(0.01)\n",
        "train_step = my_opt.minimize(loss)\n",
        "init = tf.global_variables_initializer() # this line is different depending on your version of tf\n",
        "sess.run(init)"
      ]
    },
    {
      "cell_type": "code",
      "execution_count": 14,
      "metadata": {
        "_cell_guid": "d902b6b1-a533-8188-3550-04237f32e12c",
        "id": "J9MQEMEimTEf"
      },
      "outputs": [],
      "source": [
        "loss_vec = []\n",
        "batch_accuracy = []\n",
        "for i in range(300):\n",
        "    rand_index = np.random.choice(len(x_vals),size=batch_size)\n",
        "    rand_x = x_vals[rand_index]\n",
        "    rand_y = np.transpose([y_vals[rand_index]])\n",
        "    sess.run(train_step, feed_dict={x_data: rand_x, y_target:rand_y})\n",
        "    temp_loss = sess.run(loss, feed_dict={x_data: rand_x,y_target: rand_y})\n",
        "    loss_vec.append(temp_loss)\n",
        "    acc_temp = sess.run(accuracy, feed_dict={x_data: rand_x,y_target:rand_y,prediction_grid:rand_x})\n",
        "    batch_accuracy.append(acc_temp)"
      ]
    },
    {
      "cell_type": "code",
      "execution_count": 15,
      "metadata": {
        "_cell_guid": "3dd061da-9233-a59e-bee8-41e0333d02ec",
        "id": "wmn4nKRHmTEf"
      },
      "outputs": [],
      "source": [
        "x_min, x_max = x_vals[:, 0].min() - 1, x_vals[:, 0].max() + 1\n",
        "y_min, y_max = x_vals[:, 1].min() - 1, x_vals[:, 1].max() + 1\n",
        "xx, yy = np.meshgrid(np.arange(x_min, x_max, 0.02),np.arange(y_min, y_max, 0.02))\n",
        "grid_points = np.c_[xx.ravel(), yy.ravel()]\n",
        "[grid_predictions] = sess.run(prediction, feed_dict={x_data:rand_x,y_target:rand_y,prediction_grid: grid_points})\n",
        "grid_predictions = grid_predictions.reshape(xx.shape)"
      ]
    },
    {
      "cell_type": "code",
      "execution_count": 16,
      "metadata": {
        "_cell_guid": "149f6eef-bed6-20e5-cf1c-c9de21f3c048",
        "id": "sUn2C53gmTEg",
        "outputId": "3edbca0a-5eef-49c2-904d-2c8ab3279522",
        "colab": {
          "base_uri": "https://localhost:8080/",
          "height": 472
        }
      },
      "outputs": [
        {
          "output_type": "display_data",
          "data": {
            "text/plain": [
              "<Figure size 640x480 with 1 Axes>"
            ],
            "image/png": "[encoded data removed]"
          },
          "metadata": {}
        }
      ],
      "source": [
        "plt.contourf(xx, yy, grid_predictions, cmap=plt.cm.Paired,\n",
        "alpha=0.8)\n",
        "plt.plot(class1_x, class1_y, 'ro', label='I. setosa')\n",
        "plt.plot(class2_x, class2_y, 'kx', label='Non setosa')\n",
        "plt.title('Non Linear (Gaussian) Kernel SVM Results: Iris Data')\n",
        "plt.xlabel('Pedal Length')\n",
        "plt.ylabel('Sepal Width')\n",
        "plt.legend(loc='lower right')\n",
        "plt.ylim([-0.5, 3.0])\n",
        "plt.xlim([3.5, 8.5])\n",
        "plt.show()"
      ]
    },
    {
      "cell_type": "markdown",
      "metadata": {
        "_cell_guid": "3b5d0c0f-453d-3d91-53e4-73177379cf31",
        "id": "wQDPHs0ZmTEg"
      },
      "source": [
        "As you change the values of gamma, the plots will change reflecting the change of gamma"
      ]
    },
    {
      "cell_type": "markdown",
      "metadata": {
        "_cell_guid": "9db71e96-f20b-a861-bb34-e88a5b029616",
        "id": "2_UGJSG8mTEg"
      },
      "source": [
        "Multi-class svm :"
      ]
    },
    {
      "cell_type": "code",
      "execution_count": 17,
      "metadata": {
        "_cell_guid": "8f490b9b-e220-a699-2dcb-43457df86a62",
        "id": "xz_48GRhmTEg"
      },
      "outputs": [],
      "source": [
        "iris = datasets.load_iris()\n",
        "x_vals = np.array([[x[0], x[3]] for x in iris.data])\n",
        "y_vals1 = np.array([1 if y==0 else -1 for y in iris.target])\n",
        "y_vals2 = np.array([1 if y==1 else -1 for y in iris.target])\n",
        "y_vals3 = np.array([1 if y==2 else -1 for y in iris.target])\n",
        "y_vals = np.array([y_vals1, y_vals2, y_vals3])\n",
        "class1_x = [x[0] for i,x in enumerate(x_vals) if\n",
        "iris.target[i]==0]\n",
        "class1_y = [x[1] for i,x in enumerate(x_vals) if\n",
        "iris.target[i]==0]\n",
        "class2_x = [x[0] for i,x in enumerate(x_vals) if\n",
        "iris.target[i]==1]\n",
        "class2_y = [x[1] for i,x in enumerate(x_vals) if\n",
        "iris.target[i]==1]\n",
        "class3_x = [x[0] for i,x in enumerate(x_vals) if\n",
        "iris.target[i]==2]\n",
        "class3_y = [x[1] for i,x in enumerate(x_vals) if\n",
        "iris.target[i]==2]"
      ]
    },
    {
      "cell_type": "code",
      "execution_count": 18,
      "metadata": {
        "_cell_guid": "18751b51-b58f-e11e-a322-d241dac794d7",
        "id": "03boLAhFmTEg"
      },
      "outputs": [],
      "source": [
        "batch_size = 50\n",
        "x_data = tf.placeholder(shape=[None, 2], dtype=tf.float32)\n",
        "y_target = tf.placeholder(shape=[3, None], dtype=tf.float32)\n",
        "prediction_grid = tf.placeholder(shape=[None, 2],dtype=tf.float32)\n",
        "b = tf.Variable(tf.random_normal(shape=[3,batch_size]))"
      ]
    },
    {
      "cell_type": "code",
      "execution_count": 19,
      "metadata": {
        "_cell_guid": "1931e8b6-e80d-7fc2-00dc-074c809488ba",
        "id": "V4I2ZrCfmTEg"
      },
      "outputs": [],
      "source": [
        "gamma = tf.constant(-1.0)\n",
        "dist = tf.reduce_sum(tf.square(x_data), 1)\n",
        "dist = tf.reshape(dist, [-1,1])\n",
        "sq_dists = tf.add(tf.subtract(dist, tf.multiply(2., tf.matmul(x_data,tf.transpose(x_data)))), tf.transpose(dist))\n",
        "my_kernel = tf.exp(tf.multiply(gamma, tf.abs(sq_dists)))"
      ]
    },
    {
      "cell_type": "code",
      "execution_count": 20,
      "metadata": {
        "_cell_guid": "ae5f4972-67a1-a5af-2f38-c59aeb2a4559",
        "id": "H9Xwx_k2mTEg"
      },
      "outputs": [],
      "source": [
        "#batch multiplication\n",
        "def reshape_matmul(mat):\n",
        "    v1 = tf.expand_dims(mat, 1)\n",
        "    v2 = tf.reshape(v1, [3, batch_size, 1])\n",
        "    return(tf.matmul(v2, v1))"
      ]
    },
    {
      "cell_type": "code",
      "execution_count": 21,
      "metadata": {
        "_cell_guid": "c5e52e82-dd15-ec67-2009-130dbb51ed45",
        "id": "Cky-jqQSmTEg"
      },
      "outputs": [],
      "source": [
        "#loss\n",
        "model_output = tf.matmul(b, my_kernel)\n",
        "first_term = tf.reduce_sum(b)\n",
        "b_vec_cross = tf.matmul(tf.transpose(b), b)\n",
        "y_target_cross = reshape_matmul(y_target)\n",
        "second_term = tf.reduce_sum(tf.multiply(my_kernel,tf.multiply(b_vec_cross, y_target_cross)),[1,2])\n",
        "loss = tf.reduce_sum(tf.negative(tf.subtract(first_term, second_term)))"
      ]
    },
    {
      "cell_type": "code",
      "execution_count": 22,
      "metadata": {
        "_cell_guid": "7de1748b-24f2-42cb-a3d6-1ec4a2d8d166",
        "id": "54qkOX1DmTEg"
      },
      "outputs": [],
      "source": [
        "rA = tf.reshape(tf.reduce_sum(tf.square(x_data), 1),[-1,1])\n",
        "rB = tf.reshape(tf.reduce_sum(tf.square(prediction_grid), 1),[-1,1])\n",
        "\n",
        "pred_sq_dist = tf.add(tf.subtract(rA, tf.multiply(2., tf.matmul(x_data,tf.transpose(prediction_grid)))), tf.transpose(rB))\n",
        "pred_kernel = tf.exp(tf.multiply(gamma, tf.abs(pred_sq_dist)))"
      ]
    },
    {
      "cell_type": "code",
      "execution_count": 23,
      "metadata": {
        "_cell_guid": "4fdabab7-363e-eb4d-19df-0fd433a19979",
        "id": "sv5BbdY-mTEh",
        "colab": {
          "base_uri": "https://localhost:8080/"
        },
        "outputId": "fccf898c-9c73-4175-a0da-1340dc68c3c8"
      },
      "outputs": [
        {
          "output_type": "stream",
          "name": "stderr",
          "text": [
            "WARNING:tensorflow:From <ipython-input-23-2da30e503656>:2: arg_max (from tensorflow.python.ops.gen_math_ops) is deprecated and will be removed in a future version.\n",
            "Instructions for updating:\n",
            "Use `tf.math.argmax` instead\n"
          ]
        }
      ],
      "source": [
        "prediction_output = tf.matmul(tf.multiply(y_target,b),pred_kernel)\n",
        "prediction = tf.arg_max(prediction_output-tf.expand_dims(tf.reduce_mean(prediction_output,1), 1), 0)\n",
        "accuracy = tf.reduce_mean(tf.cast(tf.equal(prediction,tf.argmax(y_target,0)), tf.float32))"
      ]
    },
    {
      "cell_type": "code",
      "execution_count": 24,
      "metadata": {
        "_cell_guid": "23316721-8e2f-5660-f127-3bc924fe4d46",
        "id": "oRfxCZH0mTEh"
      },
      "outputs": [],
      "source": [
        "my_opt = tf.train.GradientDescentOptimizer(0.01)\n",
        "train_step = my_opt.minimize(loss)\n",
        "init = tf.global_variables_initializer()\n",
        "sess.run(init)"
      ]
    },
    {
      "cell_type": "code",
      "execution_count": 25,
      "metadata": {
        "_cell_guid": "929c6572-4e11-dada-633c-7fa0a98d7ab2",
        "id": "0efo1Jn0mTEh"
      },
      "outputs": [],
      "source": [
        "loss_vec = []\n",
        "batch_accuracy = []"
      ]
    },
    {
      "cell_type": "code",
      "execution_count": 26,
      "metadata": {
        "_cell_guid": "750e7c7c-e257-1b45-bbbd-f3ad5de26f25",
        "id": "_HwBj_5EmTEh",
        "outputId": "182b4de0-4c80-4ad3-edc3-87f852610665",
        "colab": {
          "base_uri": "https://localhost:8080/"
        }
      },
      "outputs": [
        {
          "output_type": "stream",
          "name": "stdout",
          "text": [
            "Step #5\n",
            "Loss = 77.81644\n",
            "Step #10\n",
            "Loss = 41.309967\n",
            "Step #15\n",
            "Loss = 24.826008\n",
            "Step #20\n",
            "Loss = 10.5072\n",
            "Step #25\n",
            "Loss = 0.5827198\n",
            "Step #30\n",
            "Loss = -1.0279856\n",
            "Step #35\n",
            "Loss = -7.3026276\n",
            "Step #40\n",
            "Loss = -5.383463\n",
            "Step #45\n",
            "Loss = -8.246649\n",
            "Step #50\n",
            "Loss = -5.7953143\n",
            "Step #55\n",
            "Loss = -9.192124\n",
            "Step #60\n",
            "Loss = -10.863131\n",
            "Step #65\n",
            "Loss = -11.740629\n",
            "Step #70\n",
            "Loss = -12.726177\n",
            "Step #75\n",
            "Loss = -11.928426\n",
            "Step #80\n",
            "Loss = -12.410299\n",
            "Step #85\n",
            "Loss = -14.07472\n",
            "Step #90\n",
            "Loss = -13.405336\n",
            "Step #95\n",
            "Loss = -12.2966\n",
            "Step #100\n",
            "Loss = -11.730892\n",
            "Step #105\n",
            "Loss = -14.076803\n",
            "Step #110\n",
            "Loss = -12.04952\n",
            "Step #115\n",
            "Loss = -12.201152\n",
            "Step #120\n",
            "Loss = -12.960756\n",
            "Step #125\n",
            "Loss = -11.815956\n",
            "Step #130\n",
            "Loss = -12.635981\n",
            "Step #135\n",
            "Loss = -13.06928\n",
            "Step #140\n",
            "Loss = -12.584176\n",
            "Step #145\n",
            "Loss = -11.784451\n",
            "Step #150\n",
            "Loss = -14.440719\n",
            "Step #155\n",
            "Loss = -13.806549\n",
            "Step #160\n",
            "Loss = -13.447063\n",
            "Step #165\n",
            "Loss = -12.758781\n",
            "Step #170\n",
            "Loss = -13.076405\n",
            "Step #175\n",
            "Loss = -13.002322\n",
            "Step #180\n",
            "Loss = -12.843457\n",
            "Step #185\n",
            "Loss = -13.4108095\n",
            "Step #190\n",
            "Loss = -13.758154\n",
            "Step #195\n",
            "Loss = -10.604931\n",
            "Step #200\n",
            "Loss = -12.372499\n",
            "Step #205\n",
            "Loss = -14.031521\n",
            "Step #210\n",
            "Loss = -13.267475\n",
            "Step #215\n",
            "Loss = -11.630975\n",
            "Step #220\n",
            "Loss = -11.862725\n",
            "Step #225\n",
            "Loss = -13.6585\n",
            "Step #230\n",
            "Loss = -12.50281\n",
            "Step #235\n",
            "Loss = -12.039269\n",
            "Step #240\n",
            "Loss = -12.448662\n",
            "Step #245\n",
            "Loss = -13.182708\n",
            "Step #250\n",
            "Loss = -13.638005\n",
            "Step #255\n",
            "Loss = -11.955275\n",
            "Step #260\n",
            "Loss = -11.703928\n",
            "Step #265\n",
            "Loss = -11.529755\n",
            "Step #270\n",
            "Loss = -12.151956\n",
            "Step #275\n",
            "Loss = -12.754236\n",
            "Step #280\n",
            "Loss = -11.35622\n",
            "Step #285\n",
            "Loss = -12.884754\n",
            "Step #290\n",
            "Loss = -12.908914\n",
            "Step #295\n",
            "Loss = -14.499781\n",
            "Step #300\n",
            "Loss = -12.749042\n",
            "Step #305\n",
            "Loss = -12.594824\n",
            "Step #310\n",
            "Loss = -13.244959\n",
            "Step #315\n",
            "Loss = -10.850783\n",
            "Step #320\n",
            "Loss = -13.736627\n",
            "Step #325\n",
            "Loss = -12.430121\n",
            "Step #330\n",
            "Loss = -13.22098\n",
            "Step #335\n",
            "Loss = -11.185304\n",
            "Step #340\n",
            "Loss = -11.034775\n",
            "Step #345\n",
            "Loss = -10.413225\n",
            "Step #350\n",
            "Loss = -10.756765\n",
            "Step #355\n",
            "Loss = -11.546286\n",
            "Step #360\n",
            "Loss = -14.1022005\n",
            "Step #365\n",
            "Loss = -12.969409\n",
            "Step #370\n",
            "Loss = -13.967144\n",
            "Step #375\n",
            "Loss = -11.630426\n",
            "Step #380\n",
            "Loss = -12.2476635\n",
            "Step #385\n",
            "Loss = -13.051157\n",
            "Step #390\n",
            "Loss = -11.643056\n",
            "Step #395\n",
            "Loss = -12.546217\n",
            "Step #400\n",
            "Loss = -13.436329\n",
            "Step #405\n",
            "Loss = -14.325926\n",
            "Step #410\n",
            "Loss = -12.849739\n",
            "Step #415\n",
            "Loss = -11.716522\n",
            "Step #420\n",
            "Loss = -12.469654\n",
            "Step #425\n",
            "Loss = -13.35304\n",
            "Step #430\n",
            "Loss = -12.170134\n",
            "Step #435\n",
            "Loss = -13.084325\n",
            "Step #440\n",
            "Loss = -13.256535\n",
            "Step #445\n",
            "Loss = -14.178147\n",
            "Step #450\n",
            "Loss = -12.52901\n",
            "Step #455\n",
            "Loss = -11.760946\n",
            "Step #460\n",
            "Loss = -12.119394\n",
            "Step #465\n",
            "Loss = -13.012703\n",
            "Step #470\n",
            "Loss = -11.747555\n",
            "Step #475\n",
            "Loss = -13.007088\n",
            "Step #480\n",
            "Loss = -11.844225\n",
            "Step #485\n",
            "Loss = -12.4767475\n",
            "Step #490\n",
            "Loss = -12.673334\n",
            "Step #495\n",
            "Loss = -12.389009\n",
            "Step #500\n",
            "Loss = -12.91154\n",
            "Step #505\n",
            "Loss = -10.861574\n",
            "Step #510\n",
            "Loss = -11.778212\n",
            "Step #515\n",
            "Loss = -11.740055\n",
            "Step #520\n",
            "Loss = -11.040987\n",
            "Step #525\n",
            "Loss = -12.493603\n",
            "Step #530\n",
            "Loss = -13.149845\n",
            "Step #535\n",
            "Loss = -12.245473\n",
            "Step #540\n",
            "Loss = -11.850878\n",
            "Step #545\n",
            "Loss = -12.317064\n",
            "Step #550\n",
            "Loss = -12.51424\n",
            "Step #555\n",
            "Loss = -14.027985\n",
            "Step #560\n",
            "Loss = -12.200467\n",
            "Step #565\n",
            "Loss = -13.152621\n",
            "Step #570\n",
            "Loss = -12.236449\n",
            "Step #575\n",
            "Loss = -12.7315445\n",
            "Step #580\n",
            "Loss = -12.708433\n",
            "Step #585\n",
            "Loss = -13.574781\n",
            "Step #590\n",
            "Loss = -12.999292\n",
            "Step #595\n",
            "Loss = -10.737191\n",
            "Step #600\n",
            "Loss = -12.766194\n",
            "Step #605\n",
            "Loss = -11.747597\n",
            "Step #610\n",
            "Loss = -11.860679\n",
            "Step #615\n",
            "Loss = -12.953933\n",
            "Step #620\n",
            "Loss = -12.294851\n",
            "Step #625\n",
            "Loss = -12.523693\n",
            "Step #630\n",
            "Loss = -13.860659\n",
            "Step #635\n",
            "Loss = -12.898546\n",
            "Step #640\n",
            "Loss = -12.903951\n",
            "Step #645\n",
            "Loss = -13.041346\n",
            "Step #650\n",
            "Loss = -13.178455\n",
            "Step #655\n",
            "Loss = -12.488146\n",
            "Step #660\n",
            "Loss = -10.089426\n",
            "Step #665\n",
            "Loss = -13.742766\n",
            "Step #670\n",
            "Loss = -11.655424\n",
            "Step #675\n",
            "Loss = -11.979564\n",
            "Step #680\n",
            "Loss = -12.655773\n",
            "Step #685\n",
            "Loss = -12.890799\n",
            "Step #690\n",
            "Loss = -13.180494\n",
            "Step #695\n",
            "Loss = -11.097071\n",
            "Step #700\n",
            "Loss = -13.354784\n",
            "Step #705\n",
            "Loss = -12.627945\n",
            "Step #710\n",
            "Loss = -11.400228\n",
            "Step #715\n",
            "Loss = -12.403864\n",
            "Step #720\n",
            "Loss = -12.690447\n",
            "Step #725\n",
            "Loss = -13.545274\n",
            "Step #730\n",
            "Loss = -13.360476\n",
            "Step #735\n",
            "Loss = -12.116452\n",
            "Step #740\n",
            "Loss = -12.0474205\n",
            "Step #745\n",
            "Loss = -12.04817\n",
            "Step #750\n",
            "Loss = -11.540106\n",
            "Step #755\n",
            "Loss = -12.604851\n",
            "Step #760\n",
            "Loss = -12.382151\n",
            "Step #765\n",
            "Loss = -14.488491\n",
            "Step #770\n",
            "Loss = -13.810659\n",
            "Step #775\n",
            "Loss = -12.138716\n",
            "Step #780\n",
            "Loss = -10.952464\n",
            "Step #785\n",
            "Loss = -12.790996\n",
            "Step #790\n",
            "Loss = -12.852284\n",
            "Step #795\n",
            "Loss = -13.8298645\n",
            "Step #800\n",
            "Loss = -11.789737\n",
            "Step #805\n",
            "Loss = -13.296635\n",
            "Step #810\n",
            "Loss = -13.310708\n",
            "Step #815\n",
            "Loss = -12.781652\n",
            "Step #820\n",
            "Loss = -12.156572\n",
            "Step #825\n",
            "Loss = -14.073731\n",
            "Step #830\n",
            "Loss = -12.097719\n",
            "Step #835\n",
            "Loss = -13.204309\n",
            "Step #840\n",
            "Loss = -12.394896\n",
            "Step #845\n",
            "Loss = -12.093317\n",
            "Step #850\n",
            "Loss = -12.228303\n",
            "Step #855\n",
            "Loss = -11.847815\n",
            "Step #860\n",
            "Loss = -12.918012\n",
            "Step #865\n",
            "Loss = -12.436585\n",
            "Step #870\n",
            "Loss = -12.596716\n",
            "Step #875\n",
            "Loss = -12.485355\n",
            "Step #880\n",
            "Loss = -13.568678\n",
            "Step #885\n",
            "Loss = -14.321518\n",
            "Step #890\n",
            "Loss = -12.691671\n",
            "Step #895\n",
            "Loss = -12.132994\n",
            "Step #900\n",
            "Loss = -12.63041\n",
            "Step #905\n",
            "Loss = -14.589962\n",
            "Step #910\n",
            "Loss = -13.523095\n",
            "Step #915\n",
            "Loss = -12.374135\n",
            "Step #920\n",
            "Loss = -12.104923\n",
            "Step #925\n",
            "Loss = -11.220557\n",
            "Step #930\n",
            "Loss = -12.8751955\n",
            "Step #935\n",
            "Loss = -11.63647\n",
            "Step #940\n",
            "Loss = -12.112722\n",
            "Step #945\n",
            "Loss = -11.290745\n",
            "Step #950\n",
            "Loss = -12.454243\n",
            "Step #955\n",
            "Loss = -11.370155\n",
            "Step #960\n",
            "Loss = -12.435986\n",
            "Step #965\n",
            "Loss = -12.604825\n",
            "Step #970\n",
            "Loss = -13.046936\n",
            "Step #975\n",
            "Loss = -12.2868805\n",
            "Step #980\n",
            "Loss = -8.764713\n",
            "Step #985\n",
            "Loss = -11.791222\n",
            "Step #990\n",
            "Loss = -13.101293\n",
            "Step #995\n",
            "Loss = -12.100306\n",
            "Step #1000\n",
            "Loss = -12.8569565\n"
          ]
        }
      ],
      "source": [
        "for i in range(1000):\n",
        "    rand_index = np.random.choice(len(x_vals),\n",
        "    size=batch_size)\n",
        "    rand_x = x_vals[rand_index]\n",
        "    rand_y = y_vals[:,rand_index]\n",
        "    sess.run(train_step, feed_dict={x_data: rand_x, y_target:rand_y})\n",
        "    temp_loss = sess.run(loss, feed_dict={x_data: rand_x,y_target: rand_y})\n",
        "    loss_vec.append(temp_loss)\n",
        "    acc_temp = sess.run(accuracy, feed_dict={x_data: rand_x,y_target: rand_y, prediction_grid:rand_x})\n",
        "    batch_accuracy.append(acc_temp)\n",
        "    if (i+1)%5==0:\n",
        "        print('Step #' + str(i+1))\n",
        "        print('Loss = ' + str(temp_loss))"
      ]
    },
    {
      "cell_type": "code",
      "execution_count": 27,
      "metadata": {
        "_cell_guid": "4ed6433b-9cf9-a33a-04c5-aa70f3e4131b",
        "id": "Vx3DvDyHmTEh"
      },
      "outputs": [],
      "source": [
        "x_min, x_max = x_vals[:, 0].min() - 1, x_vals[:, 0].max() + 1\n",
        "y_min, y_max = x_vals[:, 1].min() - 1, x_vals[:, 1].max() + 1\n",
        "\n",
        "xx, yy = np.meshgrid(np.arange(x_min, x_max, 0.02),\n",
        "np.arange(y_min, y_max, 0.02))\n",
        "\n",
        "grid_points = np.c_[xx.ravel(), yy.ravel()]\n",
        "grid_predictions = sess.run(prediction, feed_dict={x_data:rand_x,y_target:rand_y,prediction_grid: grid_points})\n",
        "grid_predictions = grid_predictions.reshape(xx.shape)"
      ]
    },
    {
      "cell_type": "code",
      "execution_count": 28,
      "metadata": {
        "_cell_guid": "1a17ecd3-dbae-e9db-cdaa-c500cfb0accd",
        "id": "InhKNeR1mTEh",
        "outputId": "6289e246-46f2-4d83-85e4-7181833a646b",
        "colab": {
          "base_uri": "https://localhost:8080/",
          "height": 1000
        }
      },
      "outputs": [
        {
          "output_type": "display_data",
          "data": {
            "text/plain": [
              "<Figure size 640x480 with 1 Axes>"
            ],
            "image/png": "[encoded data removed]"
          },
          "metadata": {}
        },
        {
          "output_type": "display_data",
          "data": {
            "text/plain": [
              "<Figure size 640x480 with 1 Axes>"
            ],
            "image/png": "[encoded data removed]"
          },
          "metadata": {}
        },
        {
          "output_type": "display_data",
          "data": {
            "text/plain": [
              "<Figure size 640x480 with 1 Axes>"
            ],
            "image/png": "[encoded data removed]"
          },
          "metadata": {}
        }
      ],
      "source": [
        "plt.contourf(xx, yy, grid_predictions, cmap=plt.cm.Paired,\n",
        "alpha=0.8)\n",
        "plt.plot(class1_x, class1_y, 'kx', label='Setosa')\n",
        "plt.plot(class2_x, class2_y, 'gv', label='Versicolor')\n",
        "plt.plot(class3_x, class3_y, 'ro', label='Virginica')\n",
        "plt.title('Gaussian SVM Results: Iris Data')\n",
        "plt.xlabel('Pedal Length')\n",
        "plt.ylabel('Sepal Width')\n",
        "plt.legend(loc='lower right')\n",
        "plt.ylim([-0.5, 3.0])\n",
        "plt.xlim([3.5, 8.5])\n",
        "plt.show()\n",
        "\n",
        "plt.plot(batch_accuracy, 'k-', label='Accuracy')\n",
        "plt.title('Batch Accuracy')\n",
        "plt.xlabel('Generation')\n",
        "plt.ylabel('Accuracy')\n",
        "plt.legend(loc='lower right')\n",
        "plt.show()\n",
        "\n",
        "plt.plot(loss_vec, 'k-')\n",
        "plt.title('Loss per Generation')\n",
        "plt.xlabel('Generation')\n",
        "plt.ylabel('Loss')\n",
        "plt.show()"
      ]
    },
    {
      "cell_type": "code",
      "execution_count": null,
      "metadata": {
        "_cell_guid": "b3c03b7b-8208-fd66-e32d-8c5b7398a859",
        "id": "tFkpGNaTmTEh"
      },
      "outputs": [],
      "source": [
        " #Code is heavily drawn from Tensorflow Machine Learning Cookbook by Nick McClure. I just made changes to reflect the latest version of tensor flow :\n",
        "    #  tf.mul , tf.sub , tf.neg are now deprecated, and replaced with tf.multiply, tf.subtract,tf.negative\n",
        "    # init = tf.initialize_all_variables() is now deprecated, and replaced with : init = tf.global_variables_initializer()\n",
        "\n"
      ]
    }
  ],
  "metadata": {
    "_change_revision": 1,
    "_is_fork": false,
    "kernelspec": {
      "display_name": "Python 3",
      "language": "python",
      "name": "python3"
    },
    "language_info": {
      "codemirror_mode": {
        "name": "ipython",
        "version": 3
      },
      "file_extension": ".py",
      "mimetype": "text/x-python",
      "name": "python",
      "nbconvert_exporter": "python",
      "pygments_lexer": "ipython3",
      "version": "3.6.0"
    },
    "colab": {
      "provenance": [],
      "include_colab_link": true
    }
  },
  "nbformat": 4,
  "nbformat_minor": 0
}